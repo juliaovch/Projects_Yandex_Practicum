{
 "cells": [
  {
   "cell_type": "markdown",
   "metadata": {},
   "source": [
    "#  Проект \"Анализ результатов А/В теста\"\n",
    "\n",
    "Цель проекта - увеличение выручки крупного интернет-магазина. \n",
    "\n",
    "# Задачи проекта:\n",
    "\n",
    "Требуется приоритизировать подготовленные аналитиком и сотрудинками отдела маркетинга гипотезы, запустить А/В-тест и проанализировать результаты."
   ]
  },
  {
   "cell_type": "code",
   "execution_count": 37,
   "metadata": {},
   "outputs": [],
   "source": [
    "# импортируем нужные библиотаки\n",
    "\n",
    "import pandas as pd\n",
    "import numpy as np\n",
    "import datetime as dt\n",
    "import matplotlib.pyplot as plt\n",
    "import scipy.stats as stats"
   ]
  },
  {
   "cell_type": "markdown",
   "metadata": {},
   "source": [
    "## Приоритизация гипотез"
   ]
  },
  {
   "cell_type": "code",
   "execution_count": 38,
   "metadata": {},
   "outputs": [],
   "source": [
    "# загружаем изучаемые данные с гипотезами\n",
    "try:\n",
    "    data = pd.read_csv('hypothesis.csv')\n",
    "except:\n",
    "    data = pd.read_csv('/datasets/hypothesis.csv')"
   ]
  },
  {
   "cell_type": "code",
   "execution_count": 39,
   "metadata": {},
   "outputs": [
    {
     "name": "stdout",
     "output_type": "stream",
     "text": [
      "<class 'pandas.core.frame.DataFrame'>\n",
      "RangeIndex: 9 entries, 0 to 8\n",
      "Data columns (total 5 columns):\n",
      " #   Column      Non-Null Count  Dtype \n",
      "---  ------      --------------  ----- \n",
      " 0   Hypothesis  9 non-null      object\n",
      " 1   Reach       9 non-null      int64 \n",
      " 2   Impact      9 non-null      int64 \n",
      " 3   Confidence  9 non-null      int64 \n",
      " 4   Efforts     9 non-null      int64 \n",
      "dtypes: int64(4), object(1)\n",
      "memory usage: 488.0+ bytes\n"
     ]
    }
   ],
   "source": [
    "# выводим общую информацию о таблице\n",
    "data.info()"
   ]
  },
  {
   "cell_type": "code",
   "execution_count": 40,
   "metadata": {},
   "outputs": [],
   "source": [
    "# Снимаем ограничение на количество выводимых символов в таблице (чтобы полностью видеть гипотезу)\n",
    "pd.set_option('display.max_colwidth', None)"
   ]
  },
  {
   "cell_type": "code",
   "execution_count": 41,
   "metadata": {},
   "outputs": [
    {
     "data": {
      "text/html": [
       "<div>\n",
       "<style scoped>\n",
       "    .dataframe tbody tr th:only-of-type {\n",
       "        vertical-align: middle;\n",
       "    }\n",
       "\n",
       "    .dataframe tbody tr th {\n",
       "        vertical-align: top;\n",
       "    }\n",
       "\n",
       "    .dataframe thead th {\n",
       "        text-align: right;\n",
       "    }\n",
       "</style>\n",
       "<table border=\"1\" class=\"dataframe\">\n",
       "  <thead>\n",
       "    <tr style=\"text-align: right;\">\n",
       "      <th></th>\n",
       "      <th>Hypothesis</th>\n",
       "      <th>Reach</th>\n",
       "      <th>Impact</th>\n",
       "      <th>Confidence</th>\n",
       "      <th>Efforts</th>\n",
       "    </tr>\n",
       "  </thead>\n",
       "  <tbody>\n",
       "    <tr>\n",
       "      <th>0</th>\n",
       "      <td>Добавить два новых канала привлечения трафика, что позволит привлекать на 30% больше пользователей</td>\n",
       "      <td>3</td>\n",
       "      <td>10</td>\n",
       "      <td>8</td>\n",
       "      <td>6</td>\n",
       "    </tr>\n",
       "    <tr>\n",
       "      <th>1</th>\n",
       "      <td>Запустить собственную службу доставки, что сократит срок доставки заказов</td>\n",
       "      <td>2</td>\n",
       "      <td>5</td>\n",
       "      <td>4</td>\n",
       "      <td>10</td>\n",
       "    </tr>\n",
       "    <tr>\n",
       "      <th>2</th>\n",
       "      <td>Добавить блоки рекомендаций товаров на сайт интернет магазина, чтобы повысить конверсию и средний чек заказа</td>\n",
       "      <td>8</td>\n",
       "      <td>3</td>\n",
       "      <td>7</td>\n",
       "      <td>3</td>\n",
       "    </tr>\n",
       "    <tr>\n",
       "      <th>3</th>\n",
       "      <td>Изменить структура категорий, что увеличит конверсию, т.к. пользователи быстрее найдут нужный товар</td>\n",
       "      <td>8</td>\n",
       "      <td>3</td>\n",
       "      <td>3</td>\n",
       "      <td>8</td>\n",
       "    </tr>\n",
       "    <tr>\n",
       "      <th>4</th>\n",
       "      <td>Изменить цвет фона главной страницы, чтобы увеличить вовлеченность пользователей</td>\n",
       "      <td>3</td>\n",
       "      <td>1</td>\n",
       "      <td>1</td>\n",
       "      <td>1</td>\n",
       "    </tr>\n",
       "    <tr>\n",
       "      <th>5</th>\n",
       "      <td>Добавить страницу отзывов клиентов о магазине, что позволит увеличить количество заказов</td>\n",
       "      <td>3</td>\n",
       "      <td>2</td>\n",
       "      <td>2</td>\n",
       "      <td>3</td>\n",
       "    </tr>\n",
       "    <tr>\n",
       "      <th>6</th>\n",
       "      <td>Показать на главной странице баннеры с актуальными акциями и распродажами, чтобы увеличить конверсию</td>\n",
       "      <td>5</td>\n",
       "      <td>3</td>\n",
       "      <td>8</td>\n",
       "      <td>3</td>\n",
       "    </tr>\n",
       "    <tr>\n",
       "      <th>7</th>\n",
       "      <td>Добавить форму подписки на все основные страницы, чтобы собрать базу клиентов для email-рассылок</td>\n",
       "      <td>10</td>\n",
       "      <td>7</td>\n",
       "      <td>8</td>\n",
       "      <td>5</td>\n",
       "    </tr>\n",
       "    <tr>\n",
       "      <th>8</th>\n",
       "      <td>Запустить акцию, дающую скидку на товар в день рождения</td>\n",
       "      <td>1</td>\n",
       "      <td>9</td>\n",
       "      <td>9</td>\n",
       "      <td>5</td>\n",
       "    </tr>\n",
       "  </tbody>\n",
       "</table>\n",
       "</div>"
      ],
      "text/plain": [
       "                                                                                                     Hypothesis  \\\n",
       "0            Добавить два новых канала привлечения трафика, что позволит привлекать на 30% больше пользователей   \n",
       "1                                     Запустить собственную службу доставки, что сократит срок доставки заказов   \n",
       "2  Добавить блоки рекомендаций товаров на сайт интернет магазина, чтобы повысить конверсию и средний чек заказа   \n",
       "3           Изменить структура категорий, что увеличит конверсию, т.к. пользователи быстрее найдут нужный товар   \n",
       "4                              Изменить цвет фона главной страницы, чтобы увеличить вовлеченность пользователей   \n",
       "5                      Добавить страницу отзывов клиентов о магазине, что позволит увеличить количество заказов   \n",
       "6          Показать на главной странице баннеры с актуальными акциями и распродажами, чтобы увеличить конверсию   \n",
       "7              Добавить форму подписки на все основные страницы, чтобы собрать базу клиентов для email-рассылок   \n",
       "8                                                       Запустить акцию, дающую скидку на товар в день рождения   \n",
       "\n",
       "   Reach  Impact  Confidence  Efforts  \n",
       "0      3      10           8        6  \n",
       "1      2       5           4       10  \n",
       "2      8       3           7        3  \n",
       "3      8       3           3        8  \n",
       "4      3       1           1        1  \n",
       "5      3       2           2        3  \n",
       "6      5       3           8        3  \n",
       "7     10       7           8        5  \n",
       "8      1       9           9        5  "
      ]
     },
     "metadata": {},
     "output_type": "display_data"
    }
   ],
   "source": [
    "# Выводим таблицу на экран\n",
    "display(data)"
   ]
  },
  {
   "cell_type": "markdown",
   "metadata": {},
   "source": [
    "### Фреймворк ICE"
   ]
  },
  {
   "cell_type": "code",
   "execution_count": 42,
   "metadata": {},
   "outputs": [
    {
     "data": {
      "text/html": [
       "<div>\n",
       "<style scoped>\n",
       "    .dataframe tbody tr th:only-of-type {\n",
       "        vertical-align: middle;\n",
       "    }\n",
       "\n",
       "    .dataframe tbody tr th {\n",
       "        vertical-align: top;\n",
       "    }\n",
       "\n",
       "    .dataframe thead th {\n",
       "        text-align: right;\n",
       "    }\n",
       "</style>\n",
       "<table border=\"1\" class=\"dataframe\">\n",
       "  <thead>\n",
       "    <tr style=\"text-align: right;\">\n",
       "      <th></th>\n",
       "      <th>Hypothesis</th>\n",
       "      <th>ICE</th>\n",
       "    </tr>\n",
       "  </thead>\n",
       "  <tbody>\n",
       "    <tr>\n",
       "      <th>8</th>\n",
       "      <td>Запустить акцию, дающую скидку на товар в день рождения</td>\n",
       "      <td>16.20</td>\n",
       "    </tr>\n",
       "    <tr>\n",
       "      <th>0</th>\n",
       "      <td>Добавить два новых канала привлечения трафика, что позволит привлекать на 30% больше пользователей</td>\n",
       "      <td>13.33</td>\n",
       "    </tr>\n",
       "    <tr>\n",
       "      <th>7</th>\n",
       "      <td>Добавить форму подписки на все основные страницы, чтобы собрать базу клиентов для email-рассылок</td>\n",
       "      <td>11.20</td>\n",
       "    </tr>\n",
       "    <tr>\n",
       "      <th>6</th>\n",
       "      <td>Показать на главной странице баннеры с актуальными акциями и распродажами, чтобы увеличить конверсию</td>\n",
       "      <td>8.00</td>\n",
       "    </tr>\n",
       "    <tr>\n",
       "      <th>2</th>\n",
       "      <td>Добавить блоки рекомендаций товаров на сайт интернет магазина, чтобы повысить конверсию и средний чек заказа</td>\n",
       "      <td>7.00</td>\n",
       "    </tr>\n",
       "    <tr>\n",
       "      <th>1</th>\n",
       "      <td>Запустить собственную службу доставки, что сократит срок доставки заказов</td>\n",
       "      <td>2.00</td>\n",
       "    </tr>\n",
       "    <tr>\n",
       "      <th>5</th>\n",
       "      <td>Добавить страницу отзывов клиентов о магазине, что позволит увеличить количество заказов</td>\n",
       "      <td>1.33</td>\n",
       "    </tr>\n",
       "    <tr>\n",
       "      <th>3</th>\n",
       "      <td>Изменить структура категорий, что увеличит конверсию, т.к. пользователи быстрее найдут нужный товар</td>\n",
       "      <td>1.12</td>\n",
       "    </tr>\n",
       "    <tr>\n",
       "      <th>4</th>\n",
       "      <td>Изменить цвет фона главной страницы, чтобы увеличить вовлеченность пользователей</td>\n",
       "      <td>1.00</td>\n",
       "    </tr>\n",
       "  </tbody>\n",
       "</table>\n",
       "</div>"
      ],
      "text/plain": [
       "                                                                                                     Hypothesis  \\\n",
       "8                                                       Запустить акцию, дающую скидку на товар в день рождения   \n",
       "0            Добавить два новых канала привлечения трафика, что позволит привлекать на 30% больше пользователей   \n",
       "7              Добавить форму подписки на все основные страницы, чтобы собрать базу клиентов для email-рассылок   \n",
       "6          Показать на главной странице баннеры с актуальными акциями и распродажами, чтобы увеличить конверсию   \n",
       "2  Добавить блоки рекомендаций товаров на сайт интернет магазина, чтобы повысить конверсию и средний чек заказа   \n",
       "1                                     Запустить собственную службу доставки, что сократит срок доставки заказов   \n",
       "5                      Добавить страницу отзывов клиентов о магазине, что позволит увеличить количество заказов   \n",
       "3           Изменить структура категорий, что увеличит конверсию, т.к. пользователи быстрее найдут нужный товар   \n",
       "4                              Изменить цвет фона главной страницы, чтобы увеличить вовлеченность пользователей   \n",
       "\n",
       "     ICE  \n",
       "8  16.20  \n",
       "0  13.33  \n",
       "7  11.20  \n",
       "6   8.00  \n",
       "2   7.00  \n",
       "1   2.00  \n",
       "5   1.33  \n",
       "3   1.12  \n",
       "4   1.00  "
      ]
     },
     "metadata": {},
     "output_type": "display_data"
    }
   ],
   "source": [
    "# Применяем фреймворк ICE для приоритизации гипотез, сортируем их по убыванию приоритета\n",
    "data['ICE'] = np.round_(data['Impact']*data['Confidence']/data['Efforts'], decimals = 2)\n",
    "display(data[['Hypothesis', 'ICE']].sort_values(by='ICE',ascending=False))"
   ]
  },
  {
   "cell_type": "markdown",
   "metadata": {},
   "source": [
    "### Фреймворк RICE"
   ]
  },
  {
   "cell_type": "code",
   "execution_count": 43,
   "metadata": {},
   "outputs": [
    {
     "data": {
      "text/html": [
       "<div>\n",
       "<style scoped>\n",
       "    .dataframe tbody tr th:only-of-type {\n",
       "        vertical-align: middle;\n",
       "    }\n",
       "\n",
       "    .dataframe tbody tr th {\n",
       "        vertical-align: top;\n",
       "    }\n",
       "\n",
       "    .dataframe thead th {\n",
       "        text-align: right;\n",
       "    }\n",
       "</style>\n",
       "<table border=\"1\" class=\"dataframe\">\n",
       "  <thead>\n",
       "    <tr style=\"text-align: right;\">\n",
       "      <th></th>\n",
       "      <th>Hypothesis</th>\n",
       "      <th>RICE</th>\n",
       "    </tr>\n",
       "  </thead>\n",
       "  <tbody>\n",
       "    <tr>\n",
       "      <th>7</th>\n",
       "      <td>Добавить форму подписки на все основные страницы, чтобы собрать базу клиентов для email-рассылок</td>\n",
       "      <td>112.0</td>\n",
       "    </tr>\n",
       "    <tr>\n",
       "      <th>2</th>\n",
       "      <td>Добавить блоки рекомендаций товаров на сайт интернет магазина, чтобы повысить конверсию и средний чек заказа</td>\n",
       "      <td>56.0</td>\n",
       "    </tr>\n",
       "    <tr>\n",
       "      <th>0</th>\n",
       "      <td>Добавить два новых канала привлечения трафика, что позволит привлекать на 30% больше пользователей</td>\n",
       "      <td>40.0</td>\n",
       "    </tr>\n",
       "    <tr>\n",
       "      <th>6</th>\n",
       "      <td>Показать на главной странице баннеры с актуальными акциями и распродажами, чтобы увеличить конверсию</td>\n",
       "      <td>40.0</td>\n",
       "    </tr>\n",
       "    <tr>\n",
       "      <th>8</th>\n",
       "      <td>Запустить акцию, дающую скидку на товар в день рождения</td>\n",
       "      <td>16.2</td>\n",
       "    </tr>\n",
       "    <tr>\n",
       "      <th>3</th>\n",
       "      <td>Изменить структура категорий, что увеличит конверсию, т.к. пользователи быстрее найдут нужный товар</td>\n",
       "      <td>9.0</td>\n",
       "    </tr>\n",
       "    <tr>\n",
       "      <th>1</th>\n",
       "      <td>Запустить собственную службу доставки, что сократит срок доставки заказов</td>\n",
       "      <td>4.0</td>\n",
       "    </tr>\n",
       "    <tr>\n",
       "      <th>5</th>\n",
       "      <td>Добавить страницу отзывов клиентов о магазине, что позволит увеличить количество заказов</td>\n",
       "      <td>4.0</td>\n",
       "    </tr>\n",
       "    <tr>\n",
       "      <th>4</th>\n",
       "      <td>Изменить цвет фона главной страницы, чтобы увеличить вовлеченность пользователей</td>\n",
       "      <td>3.0</td>\n",
       "    </tr>\n",
       "  </tbody>\n",
       "</table>\n",
       "</div>"
      ],
      "text/plain": [
       "                                                                                                     Hypothesis  \\\n",
       "7              Добавить форму подписки на все основные страницы, чтобы собрать базу клиентов для email-рассылок   \n",
       "2  Добавить блоки рекомендаций товаров на сайт интернет магазина, чтобы повысить конверсию и средний чек заказа   \n",
       "0            Добавить два новых канала привлечения трафика, что позволит привлекать на 30% больше пользователей   \n",
       "6          Показать на главной странице баннеры с актуальными акциями и распродажами, чтобы увеличить конверсию   \n",
       "8                                                       Запустить акцию, дающую скидку на товар в день рождения   \n",
       "3           Изменить структура категорий, что увеличит конверсию, т.к. пользователи быстрее найдут нужный товар   \n",
       "1                                     Запустить собственную службу доставки, что сократит срок доставки заказов   \n",
       "5                      Добавить страницу отзывов клиентов о магазине, что позволит увеличить количество заказов   \n",
       "4                              Изменить цвет фона главной страницы, чтобы увеличить вовлеченность пользователей   \n",
       "\n",
       "    RICE  \n",
       "7  112.0  \n",
       "2   56.0  \n",
       "0   40.0  \n",
       "6   40.0  \n",
       "8   16.2  \n",
       "3    9.0  \n",
       "1    4.0  \n",
       "5    4.0  \n",
       "4    3.0  "
      ]
     },
     "metadata": {},
     "output_type": "display_data"
    }
   ],
   "source": [
    "# Применяем фреймворк RICE для приоритизации гипотез, сортируем их по убыванию приоритета\n",
    "data['RICE'] = data['Reach']*data['Impact']*data['Confidence']/data['Efforts']\n",
    "display(data[['Hypothesis', 'RICE']].sort_values(by='RICE',ascending=False))"
   ]
  },
  {
   "cell_type": "markdown",
   "metadata": {},
   "source": [
    "Главное отличие RICE от ICE - в том, что в первом мы учитываем еще и уровень охвата - на какое количество людей каждая фича или проект повлияет в течение определенного периода времени, и сколько пользователей увидят такие изменения.\n",
    "\n",
    "Если при применении ICE лидирует гипотеза со скидкой в день рождения, далее следует гипотеза с добавлением двух новых каналов привлечения трафика и замыкает круг лидеров добавление формы подписки на все основные страницы (для сбора базы клиентов для email-рассылок), то при применении фрейм-ворка RICE эта гипотеза поднимается на первую позицию и лидирует со значительным отрывом. Здесь объяснение простое - параметр \"reach\" самый высокий. Так же объясняются и другие перестановки в итоговой таблице - чем выше уровень охвата, тем более высокую позицию занимает та или иная гипотеза."
   ]
  },
  {
   "cell_type": "markdown",
   "metadata": {},
   "source": [
    "## Анализ A/B-теста"
   ]
  },
  {
   "cell_type": "markdown",
   "metadata": {},
   "source": [
    "### Предобработка данных"
   ]
  },
  {
   "cell_type": "code",
   "execution_count": 44,
   "metadata": {},
   "outputs": [],
   "source": [
    "# Загружаем результаты A/B-теста\n",
    "\n",
    "try:\n",
    "    orders, visitors = (\n",
    "        pd.read_csv('orders.csv'),\n",
    "        pd.read_csv('visitors.csv')\n",
    ")\n",
    "except:\n",
    "    orders, visitors = (\n",
    "        pd.read_csv('/datasets/orders.csv'),\n",
    "        pd.read_csv('/datasets/visitors.csv')\n",
    ")    "
   ]
  },
  {
   "cell_type": "code",
   "execution_count": 45,
   "metadata": {},
   "outputs": [
    {
     "name": "stdout",
     "output_type": "stream",
     "text": [
      "<class 'pandas.core.frame.DataFrame'>\n",
      "RangeIndex: 1197 entries, 0 to 1196\n",
      "Data columns (total 5 columns):\n",
      " #   Column         Non-Null Count  Dtype \n",
      "---  ------         --------------  ----- \n",
      " 0   transactionId  1197 non-null   int64 \n",
      " 1   visitorId      1197 non-null   int64 \n",
      " 2   date           1197 non-null   object\n",
      " 3   revenue        1197 non-null   int64 \n",
      " 4   group          1197 non-null   object\n",
      "dtypes: int64(3), object(2)\n",
      "memory usage: 46.9+ KB\n"
     ]
    },
    {
     "data": {
      "text/plain": [
       "None"
      ]
     },
     "metadata": {},
     "output_type": "display_data"
    },
    {
     "name": "stdout",
     "output_type": "stream",
     "text": [
      "<class 'pandas.core.frame.DataFrame'>\n",
      "RangeIndex: 62 entries, 0 to 61\n",
      "Data columns (total 3 columns):\n",
      " #   Column    Non-Null Count  Dtype \n",
      "---  ------    --------------  ----- \n",
      " 0   date      62 non-null     object\n",
      " 1   group     62 non-null     object\n",
      " 2   visitors  62 non-null     int64 \n",
      "dtypes: int64(1), object(2)\n",
      "memory usage: 1.6+ KB\n"
     ]
    },
    {
     "data": {
      "text/plain": [
       "None"
      ]
     },
     "metadata": {},
     "output_type": "display_data"
    }
   ],
   "source": [
    "# Выводим общую информацию о заказах и посетителях\n",
    "\n",
    "display(orders.info())\n",
    "display(visitors.info())"
   ]
  },
  {
   "cell_type": "code",
   "execution_count": 46,
   "metadata": {},
   "outputs": [
    {
     "data": {
      "text/html": [
       "<div>\n",
       "<style scoped>\n",
       "    .dataframe tbody tr th:only-of-type {\n",
       "        vertical-align: middle;\n",
       "    }\n",
       "\n",
       "    .dataframe tbody tr th {\n",
       "        vertical-align: top;\n",
       "    }\n",
       "\n",
       "    .dataframe thead th {\n",
       "        text-align: right;\n",
       "    }\n",
       "</style>\n",
       "<table border=\"1\" class=\"dataframe\">\n",
       "  <thead>\n",
       "    <tr style=\"text-align: right;\">\n",
       "      <th></th>\n",
       "      <th>transactionId</th>\n",
       "      <th>visitorId</th>\n",
       "      <th>date</th>\n",
       "      <th>revenue</th>\n",
       "      <th>group</th>\n",
       "    </tr>\n",
       "  </thead>\n",
       "  <tbody>\n",
       "    <tr>\n",
       "      <th>0</th>\n",
       "      <td>3667963787</td>\n",
       "      <td>3312258926</td>\n",
       "      <td>2019-08-15</td>\n",
       "      <td>1650</td>\n",
       "      <td>B</td>\n",
       "    </tr>\n",
       "    <tr>\n",
       "      <th>1</th>\n",
       "      <td>2804400009</td>\n",
       "      <td>3642806036</td>\n",
       "      <td>2019-08-15</td>\n",
       "      <td>730</td>\n",
       "      <td>B</td>\n",
       "    </tr>\n",
       "    <tr>\n",
       "      <th>2</th>\n",
       "      <td>2961555356</td>\n",
       "      <td>4069496402</td>\n",
       "      <td>2019-08-15</td>\n",
       "      <td>400</td>\n",
       "      <td>A</td>\n",
       "    </tr>\n",
       "    <tr>\n",
       "      <th>3</th>\n",
       "      <td>3797467345</td>\n",
       "      <td>1196621759</td>\n",
       "      <td>2019-08-15</td>\n",
       "      <td>9759</td>\n",
       "      <td>B</td>\n",
       "    </tr>\n",
       "    <tr>\n",
       "      <th>4</th>\n",
       "      <td>2282983706</td>\n",
       "      <td>2322279887</td>\n",
       "      <td>2019-08-15</td>\n",
       "      <td>2308</td>\n",
       "      <td>B</td>\n",
       "    </tr>\n",
       "  </tbody>\n",
       "</table>\n",
       "</div>"
      ],
      "text/plain": [
       "   transactionId   visitorId        date  revenue group\n",
       "0     3667963787  3312258926  2019-08-15     1650     B\n",
       "1     2804400009  3642806036  2019-08-15      730     B\n",
       "2     2961555356  4069496402  2019-08-15      400     A\n",
       "3     3797467345  1196621759  2019-08-15     9759     B\n",
       "4     2282983706  2322279887  2019-08-15     2308     B"
      ]
     },
     "metadata": {},
     "output_type": "display_data"
    },
    {
     "data": {
      "text/html": [
       "<div>\n",
       "<style scoped>\n",
       "    .dataframe tbody tr th:only-of-type {\n",
       "        vertical-align: middle;\n",
       "    }\n",
       "\n",
       "    .dataframe tbody tr th {\n",
       "        vertical-align: top;\n",
       "    }\n",
       "\n",
       "    .dataframe thead th {\n",
       "        text-align: right;\n",
       "    }\n",
       "</style>\n",
       "<table border=\"1\" class=\"dataframe\">\n",
       "  <thead>\n",
       "    <tr style=\"text-align: right;\">\n",
       "      <th></th>\n",
       "      <th>date</th>\n",
       "      <th>group</th>\n",
       "      <th>visitors</th>\n",
       "    </tr>\n",
       "  </thead>\n",
       "  <tbody>\n",
       "    <tr>\n",
       "      <th>0</th>\n",
       "      <td>2019-08-01</td>\n",
       "      <td>A</td>\n",
       "      <td>719</td>\n",
       "    </tr>\n",
       "    <tr>\n",
       "      <th>1</th>\n",
       "      <td>2019-08-02</td>\n",
       "      <td>A</td>\n",
       "      <td>619</td>\n",
       "    </tr>\n",
       "    <tr>\n",
       "      <th>2</th>\n",
       "      <td>2019-08-03</td>\n",
       "      <td>A</td>\n",
       "      <td>507</td>\n",
       "    </tr>\n",
       "    <tr>\n",
       "      <th>3</th>\n",
       "      <td>2019-08-04</td>\n",
       "      <td>A</td>\n",
       "      <td>717</td>\n",
       "    </tr>\n",
       "    <tr>\n",
       "      <th>4</th>\n",
       "      <td>2019-08-05</td>\n",
       "      <td>A</td>\n",
       "      <td>756</td>\n",
       "    </tr>\n",
       "  </tbody>\n",
       "</table>\n",
       "</div>"
      ],
      "text/plain": [
       "         date group  visitors\n",
       "0  2019-08-01     A       719\n",
       "1  2019-08-02     A       619\n",
       "2  2019-08-03     A       507\n",
       "3  2019-08-04     A       717\n",
       "4  2019-08-05     A       756"
      ]
     },
     "metadata": {},
     "output_type": "display_data"
    }
   ],
   "source": [
    "# Выводим первые 5 строк из каждой таблицы\n",
    "\n",
    "display(orders.head())\n",
    "display(visitors.head())"
   ]
  },
  {
   "cell_type": "code",
   "execution_count": 47,
   "metadata": {},
   "outputs": [],
   "source": [
    "# Приведем даты к нужному формату\n",
    "\n",
    "orders['date'] = orders['date'].map(\n",
    "    lambda x: dt.datetime.strptime(x, '%Y-%m-%d')\n",
    ")\n",
    "visitors['date'] = visitors['date'].map(\n",
    "    lambda x: dt.datetime.strptime(x, '%Y-%m-%d')\n",
    ")"
   ]
  },
  {
   "cell_type": "code",
   "execution_count": 48,
   "metadata": {},
   "outputs": [
    {
     "data": {
      "text/html": [
       "<div>\n",
       "<style scoped>\n",
       "    .dataframe tbody tr th:only-of-type {\n",
       "        vertical-align: middle;\n",
       "    }\n",
       "\n",
       "    .dataframe tbody tr th {\n",
       "        vertical-align: top;\n",
       "    }\n",
       "\n",
       "    .dataframe thead th {\n",
       "        text-align: right;\n",
       "    }\n",
       "</style>\n",
       "<table border=\"1\" class=\"dataframe\">\n",
       "  <thead>\n",
       "    <tr style=\"text-align: right;\">\n",
       "      <th></th>\n",
       "      <th>visitorId</th>\n",
       "    </tr>\n",
       "    <tr>\n",
       "      <th>group</th>\n",
       "      <th></th>\n",
       "    </tr>\n",
       "  </thead>\n",
       "  <tbody>\n",
       "    <tr>\n",
       "      <th>A</th>\n",
       "      <td>503</td>\n",
       "    </tr>\n",
       "    <tr>\n",
       "      <th>B</th>\n",
       "      <td>586</td>\n",
       "    </tr>\n",
       "  </tbody>\n",
       "</table>\n",
       "</div>"
      ],
      "text/plain": [
       "       visitorId\n",
       "group           \n",
       "A            503\n",
       "B            586"
      ]
     },
     "metadata": {},
     "output_type": "display_data"
    },
    {
     "data": {
      "text/html": [
       "<div>\n",
       "<style scoped>\n",
       "    .dataframe tbody tr th:only-of-type {\n",
       "        vertical-align: middle;\n",
       "    }\n",
       "\n",
       "    .dataframe tbody tr th {\n",
       "        vertical-align: top;\n",
       "    }\n",
       "\n",
       "    .dataframe thead th {\n",
       "        text-align: right;\n",
       "    }\n",
       "</style>\n",
       "<table border=\"1\" class=\"dataframe\">\n",
       "  <thead>\n",
       "    <tr style=\"text-align: right;\">\n",
       "      <th></th>\n",
       "      <th>visitorId</th>\n",
       "    </tr>\n",
       "    <tr>\n",
       "      <th>group</th>\n",
       "      <th></th>\n",
       "    </tr>\n",
       "  </thead>\n",
       "  <tbody>\n",
       "    <tr>\n",
       "      <th>A</th>\n",
       "      <td>557</td>\n",
       "    </tr>\n",
       "    <tr>\n",
       "      <th>B</th>\n",
       "      <td>640</td>\n",
       "    </tr>\n",
       "  </tbody>\n",
       "</table>\n",
       "</div>"
      ],
      "text/plain": [
       "       visitorId\n",
       "group           \n",
       "A            557\n",
       "B            640"
      ]
     },
     "metadata": {},
     "output_type": "display_data"
    }
   ],
   "source": [
    "# Считаем сколько уникальных пользователей в каждой группе\n",
    "\n",
    "display(orders.groupby('group').agg({'visitorId' : 'nunique'}))\n",
    "\n",
    "# Так же посмотрим как распределены заказы между пользователями в каждой из групп\n",
    "display(orders.groupby('group').agg({'visitorId' : 'count'}))"
   ]
  },
  {
   "cell_type": "code",
   "execution_count": 49,
   "metadata": {},
   "outputs": [
    {
     "data": {
      "text/plain": [
       "'17%'"
      ]
     },
     "execution_count": 49,
     "metadata": {},
     "output_type": "execute_result"
    }
   ],
   "source": [
    "# считаем относительную разницу между уникальными пользователями в группах\n",
    "format(\n",
    "    orders['visitorId'][orders['group'] == 'B'].nunique() /\n",
    "    orders['visitorId'][orders['group'] == 'A'].nunique() - 1\n",
    "    , '.0%')\n"
   ]
  },
  {
   "cell_type": "markdown",
   "metadata": {},
   "source": [
    "Группа В на 17% больше по количеству уникальных пользователей, чем группа А. Разница существенная, можно сделать вывод о несбалансированности групп тестирования."
   ]
  },
  {
   "cell_type": "code",
   "execution_count": 50,
   "metadata": {},
   "outputs": [
    {
     "data": {
      "text/plain": [
       "group    58\n",
       "dtype: int64"
      ]
     },
     "execution_count": 50,
     "metadata": {},
     "output_type": "execute_result"
    }
   ],
   "source": [
    "# Проверим, есть ли пользователи, состоящие у обеих группах\n",
    "\n",
    "orders.groupby('visitorId').agg({'group' : 'nunique'}).query('group>1').count()"
   ]
  },
  {
   "cell_type": "code",
   "execution_count": 51,
   "metadata": {},
   "outputs": [
    {
     "data": {
      "text/plain": [
       "True"
      ]
     },
     "metadata": {},
     "output_type": "display_data"
    },
    {
     "data": {
      "text/plain": [
       "True"
      ]
     },
     "metadata": {},
     "output_type": "display_data"
    }
   ],
   "source": [
    "# Проверям, совпадают ли даты начала и окончания теста в файлах с заказами и визитами\n",
    "display(orders['date'].min() == visitors['date'].min())\n",
    "display(orders['date'].max() == visitors['date'].max())"
   ]
  },
  {
   "cell_type": "code",
   "execution_count": 52,
   "metadata": {},
   "outputs": [
    {
     "data": {
      "text/plain": [
       "'Дата начала проведения теста:'"
      ]
     },
     "metadata": {},
     "output_type": "display_data"
    },
    {
     "data": {
      "text/plain": [
       "'2019-08-01'"
      ]
     },
     "metadata": {},
     "output_type": "display_data"
    },
    {
     "data": {
      "text/plain": [
       "'Дата окончания проведения теста:'"
      ]
     },
     "metadata": {},
     "output_type": "display_data"
    },
    {
     "data": {
      "text/plain": [
       "'2019-08-31'"
      ]
     },
     "metadata": {},
     "output_type": "display_data"
    }
   ],
   "source": [
    "# Выводим даты начала и окончания теста\n",
    "display(\n",
    "    'Дата начала проведения теста:', orders['date'].min().strftime('%Y-%m-%d'),\n",
    "    'Дата окончания проведения теста:', orders['date'].max().strftime('%Y-%m-%d')\n",
    ")"
   ]
  },
  {
   "cell_type": "markdown",
   "metadata": {},
   "source": [
    "Мы изменили тип данных, где это требовалось для удобства дальнейшего анализа. \n",
    "\n",
    "Установили даты начала и окончания проведения теста - с 1 по 31 августа 2019 г.\n",
    "\n",
    "Также были обнаружены пользователи, состоящие в обеих группах тестирования. Так как 58 пользователей это достоточно много для наших данных, принимаем решение не удалять их."
   ]
  },
  {
   "cell_type": "markdown",
   "metadata": {},
   "source": [
    "### Строим график кумулятивной выручки по группам"
   ]
  },
  {
   "cell_type": "code",
   "execution_count": 53,
   "metadata": {},
   "outputs": [
    {
     "data": {
      "text/html": [
       "<div>\n",
       "<style scoped>\n",
       "    .dataframe tbody tr th:only-of-type {\n",
       "        vertical-align: middle;\n",
       "    }\n",
       "\n",
       "    .dataframe tbody tr th {\n",
       "        vertical-align: top;\n",
       "    }\n",
       "\n",
       "    .dataframe thead th {\n",
       "        text-align: right;\n",
       "    }\n",
       "</style>\n",
       "<table border=\"1\" class=\"dataframe\">\n",
       "  <thead>\n",
       "    <tr style=\"text-align: right;\">\n",
       "      <th></th>\n",
       "      <th>date</th>\n",
       "      <th>group</th>\n",
       "      <th>orders</th>\n",
       "      <th>buyers</th>\n",
       "      <th>revenue</th>\n",
       "      <th>visitors</th>\n",
       "    </tr>\n",
       "  </thead>\n",
       "  <tbody>\n",
       "    <tr>\n",
       "      <th>0</th>\n",
       "      <td>2019-08-01</td>\n",
       "      <td>A</td>\n",
       "      <td>24</td>\n",
       "      <td>20</td>\n",
       "      <td>148579</td>\n",
       "      <td>719</td>\n",
       "    </tr>\n",
       "    <tr>\n",
       "      <th>1</th>\n",
       "      <td>2019-08-01</td>\n",
       "      <td>B</td>\n",
       "      <td>21</td>\n",
       "      <td>20</td>\n",
       "      <td>101217</td>\n",
       "      <td>713</td>\n",
       "    </tr>\n",
       "    <tr>\n",
       "      <th>2</th>\n",
       "      <td>2019-08-02</td>\n",
       "      <td>A</td>\n",
       "      <td>44</td>\n",
       "      <td>38</td>\n",
       "      <td>242401</td>\n",
       "      <td>1338</td>\n",
       "    </tr>\n",
       "    <tr>\n",
       "      <th>3</th>\n",
       "      <td>2019-08-02</td>\n",
       "      <td>B</td>\n",
       "      <td>45</td>\n",
       "      <td>43</td>\n",
       "      <td>266748</td>\n",
       "      <td>1294</td>\n",
       "    </tr>\n",
       "    <tr>\n",
       "      <th>4</th>\n",
       "      <td>2019-08-03</td>\n",
       "      <td>A</td>\n",
       "      <td>68</td>\n",
       "      <td>62</td>\n",
       "      <td>354874</td>\n",
       "      <td>1845</td>\n",
       "    </tr>\n",
       "  </tbody>\n",
       "</table>\n",
       "</div>"
      ],
      "text/plain": [
       "        date group  orders  buyers  revenue  visitors\n",
       "0 2019-08-01     A      24      20   148579       719\n",
       "1 2019-08-01     B      21      20   101217       713\n",
       "2 2019-08-02     A      44      38   242401      1338\n",
       "3 2019-08-02     B      45      43   266748      1294\n",
       "4 2019-08-03     A      68      62   354874      1845"
      ]
     },
     "metadata": {},
     "output_type": "display_data"
    }
   ],
   "source": [
    "# Создаем массив уникальных пар значений дат и групп теста\n",
    "datesGroups = orders[['date','group']].drop_duplicates()\n",
    "\n",
    "# получаем агрегированные кумулятивные по дням данные о заказах \n",
    "ordersAggregated = (\n",
    "    datesGroups.apply(\n",
    "        lambda x: orders[np.logical_and(orders['date'] <= x['date'], \n",
    "                                        orders['group'] == x['group'])].agg(\n",
    "            {'date' : 'max', 'group' : 'max', 'transactionId' : 'nunique', 'visitorId' : 'nunique', 'revenue' : 'sum'}\n",
    "        ), \n",
    "        axis=1).sort_values(by=['date','group'])\n",
    ")\n",
    "\n",
    "# Получаем агрегированные кумулятивные по дням данные о посетителях интернет-магазина \n",
    "visitorsAggregated = (\n",
    "    datesGroups.apply(\n",
    "        lambda x: visitors[np.logical_and(visitors['date'] <= x['date'],\n",
    "                                          visitors['group'] == x['group'])].agg(\n",
    "            {'date' : 'max', 'group' : 'max', 'visitors' : 'sum'}\n",
    "        ),\n",
    "        axis=1).sort_values(by=['date','group'])\n",
    ")\n",
    "\n",
    "# Объединяем кумулятивные данные в одной таблице и присваиваем ее столбцам понятные названия\n",
    "cumulativeData = ordersAggregated.merge(visitorsAggregated, left_on=['date', 'group'], right_on=['date', 'group'])\n",
    "cumulativeData.columns = ['date', 'group', 'orders', 'buyers', 'revenue', 'visitors']\n",
    "\n",
    "display(cumulativeData.head(5))"
   ]
  },
  {
   "cell_type": "code",
   "execution_count": 54,
   "metadata": {},
   "outputs": [
    {
     "data": {
      "image/png": "[encoded data removed]",
      "text/plain": [
       "<Figure size 1000x600 with 1 Axes>"
      ]
     },
     "metadata": {},
     "output_type": "display_data"
    }
   ],
   "source": [
    "# Построим графики кумулятивной выручки по дням и группам A/B-тестирования: \n",
    "\n",
    "# Датафрейм с кумулятивным количеством заказов и кумулятивной выручкой по дням в группе А\n",
    "cumulativeRevenueA = cumulativeData[cumulativeData['group']=='A'][['date','revenue', 'orders']]\n",
    "\n",
    "# Датафрейм с кумулятивным количеством заказов и кумулятивной выручкой по дням в группе B\n",
    "cumulativeRevenueB = cumulativeData[cumulativeData['group']=='B'][['date','revenue', 'orders']]\n",
    "\n",
    "# Задаем размеры графика\n",
    "plt.figure(figsize=(10,6))\n",
    "\n",
    "# Строим график выручки группы А\n",
    "plt.plot(cumulativeRevenueA['date'], cumulativeRevenueA['revenue'], label='A')\n",
    "\n",
    "# Строим график выручки группы B\n",
    "plt.plot(cumulativeRevenueB['date'], cumulativeRevenueB['revenue'], label='B')\n",
    "\n",
    "# Выводим название графика, осей и легенду\n",
    "plt.title('Графики кумулятивной выручки по дням и группам A/B-тестирования')\n",
    "plt.xlabel('Дата', color='gray')\n",
    "plt.ylabel('Выручка', color='gray')\n",
    "plt.legend()\n",
    "plt.show()"
   ]
  },
  {
   "cell_type": "markdown",
   "metadata": {},
   "source": [
    "Выручка почти равномерно увеличивается в течение всего теста. Хороший знак.\n",
    "Однако есть участок где график выручки группы B резко растет. Это может сигнализировать о всплесках числа заказов, либо о появлении очень дорогих заказов в выборке. Построим графики среднего чека по группам — разделим кумулятивную выручку на кумулятивное число заказов."
   ]
  },
  {
   "cell_type": "markdown",
   "metadata": {},
   "source": [
    "### Строим график кумулятивного среднего чека по группам"
   ]
  },
  {
   "cell_type": "code",
   "execution_count": 55,
   "metadata": {},
   "outputs": [
    {
     "data": {
      "image/png": "[encoded data removed]",
      "text/plain": [
       "<Figure size 1000x600 with 1 Axes>"
      ]
     },
     "metadata": {},
     "output_type": "display_data"
    }
   ],
   "source": [
    "# Задаем размеры графика\n",
    "plt.figure(figsize=(10,6))\n",
    "\n",
    "# Разделим кумулятивную выручку на кумулятивное число заказов\n",
    "# Строим график среднего чека группы А\n",
    "plt.plot(cumulativeRevenueA['date'], cumulativeRevenueA['revenue']/cumulativeRevenueA['orders'], label='A')\n",
    "\n",
    "# Строим график среднего чека группы В\n",
    "plt.plot(cumulativeRevenueB['date'], cumulativeRevenueB['revenue']/cumulativeRevenueB['orders'], label='B')\n",
    "\n",
    "# Выводим название графика, осей и легенду\n",
    "plt.title('Графики кумулятивного среднего чека по дням и группам A/B-тестирования')\n",
    "plt.xlabel('Дата', color='gray')\n",
    "plt.ylabel('Средний чек', color='gray')\n",
    "plt.legend()\n",
    "plt.show()"
   ]
  },
  {
   "cell_type": "markdown",
   "metadata": {},
   "source": [
    "Средний чек становится более равномерным ближе к концу теста: наблюдается рост для группы A и продолжает падать для группы B. Возможно, в группу B определенный период теста попали особо крупные заказы (резкий всплеск на графике). Тогда ей нужно больше данных, чтобы прийти к реальному среднему чеку и установиться на его уровне."
   ]
  },
  {
   "cell_type": "markdown",
   "metadata": {},
   "source": [
    "### Строим график относительного изменения кумулятивного среднего чека группы В к группе А"
   ]
  },
  {
   "cell_type": "code",
   "execution_count": 56,
   "metadata": {},
   "outputs": [
    {
     "data": {
      "image/png": "[encoded data removed]",
      "text/plain": [
       "<Figure size 1000x600 with 1 Axes>"
      ]
     },
     "metadata": {},
     "output_type": "display_data"
    }
   ],
   "source": [
    "# собираем данные в одном датафрейме\n",
    "mergedCumulativeRevenue = cumulativeRevenueA.merge(\n",
    "    cumulativeRevenueB, left_on='date', right_on='date', how='left', suffixes=['A', 'B']\n",
    ")\n",
    "\n",
    "# Задаем размеры графика\n",
    "plt.figure(figsize=(10,6))\n",
    "\n",
    "# Строим отношение средних чеков\n",
    "plt.plot(mergedCumulativeRevenue['date'], (\n",
    "    mergedCumulativeRevenue['revenueB']/mergedCumulativeRevenue['ordersB']\n",
    ")/(mergedCumulativeRevenue['revenueA']/mergedCumulativeRevenue['ordersA'])-1)\n",
    "\n",
    "# Добавляем ось X\n",
    "plt.axhline(y=0, color='black', linestyle='--')\n",
    "\n",
    "plt.title('График относительного изменения кумулятивного среднего чека группы В к группе А по дням')\n",
    "plt.xlabel('Дата', color='gray')\n",
    "plt.ylabel('Изменение среднего чека', color='gray')\n",
    "plt.show()"
   ]
  },
  {
   "cell_type": "markdown",
   "metadata": {},
   "source": [
    "В нескольких точках график различия между сегментами резко «скачет». Где-то уж точно спрятались крупные заказы и выбросы."
   ]
  },
  {
   "cell_type": "markdown",
   "metadata": {},
   "source": [
    "### Строим график кумулятивного среднего количества заказов на посетителя по группам"
   ]
  },
  {
   "cell_type": "code",
   "execution_count": 57,
   "metadata": {},
   "outputs": [
    {
     "data": {
      "image/png": "[encoded data removed]",
      "text/plain": [
       "<Figure size 1000x600 with 1 Axes>"
      ]
     },
     "metadata": {},
     "output_type": "display_data"
    }
   ],
   "source": [
    "# считаем кумулятивное среднее количество заказов на посетителя\n",
    "cumulativeData['csaov'] = cumulativeData['orders']/cumulativeData['visitors']\n",
    "\n",
    "# отделяем данные по группе A\n",
    "cumulativeDataA = cumulativeData[cumulativeData['group']=='A']\n",
    "\n",
    "# отделяем данные по группе B\n",
    "cumulativeDataB = cumulativeData[cumulativeData['group']=='B']\n",
    "\n",
    "# Задаем размеры графика\n",
    "plt.figure(figsize=(10,6))\n",
    "\n",
    "# строим графики\n",
    "plt.plot(cumulativeDataA['date'], cumulativeDataA['csaov'], label='A')\n",
    "\n",
    "plt.plot(cumulativeDataB['date'], cumulativeDataB['csaov'], label='B')\n",
    "plt.title('График кумулятивного среднего количества заказов на посетителя по группам')\n",
    "plt.xlabel('Дата', color='gray')\n",
    "plt.ylabel('Среднее количество заказов на посетителя', color='gray')\n",
    "plt.legend()\n",
    "plt.show()"
   ]
  },
  {
   "cell_type": "markdown",
   "metadata": {},
   "source": [
    "Наблюдаем сильные всплески вначале эксперимента. Далее графики еще не выровнялись, колебания присутствуют, но уже без значительных (как вначале) перепадов. \n",
    "\n",
    "Сначала среднее количество заказов на посетителя группы А было значительно выше, но группа B вырвалась вперёд, а график группы A просел."
   ]
  },
  {
   "cell_type": "markdown",
   "metadata": {},
   "source": [
    "### Строим график относительного изменения кумулятивного среднего количества заказов на посетителя группы В к группе А"
   ]
  },
  {
   "cell_type": "code",
   "execution_count": 58,
   "metadata": {},
   "outputs": [
    {
     "data": {
      "image/png": "[encoded data removed]",
      "text/plain": [
       "<Figure size 1000x600 with 1 Axes>"
      ]
     },
     "metadata": {},
     "output_type": "display_data"
    }
   ],
   "source": [
    "# Построим график относительного различия кумулятивного среднего количества заказов на посетителя\n",
    "mergedCumulative_csaov = cumulativeDataA[['date','csaov']].merge(\n",
    "    cumulativeDataB[['date','csaov']], left_on='date', right_on='date', how='left', suffixes=['A', 'B']\n",
    ")\n",
    "\n",
    "# Задаем размеры графика\n",
    "plt.figure(figsize=(10,6))\n",
    "\n",
    "plt.plot(\n",
    "    mergedCumulative_csaov['date'], mergedCumulative_csaov['csaovB']/\n",
    "    mergedCumulative_csaov['csaovA']-1, label=\"Относительный прирост\"\n",
    ")\n",
    "plt.legend()\n",
    "\n",
    "plt.axhline(y=0, color='black', linestyle='--')\n",
    "plt.axhline(y=0.1, color='grey', linestyle='--')\n",
    "\n",
    "plt.title('График относительного изменения кумулятивного среднего количества заказов на посетителя группы В к группе А')\n",
    "plt.xlabel('Дата', color='gray')\n",
    "plt.ylabel('Изменение среднего количества заказов на посетителя', color='gray')\n",
    "plt.legend()\n",
    "plt.show()"
   ]
  },
  {
   "cell_type": "markdown",
   "metadata": {},
   "source": [
    "В начале теста группа B значительно проигрывала группе A, затем вырвалась вперёд. Потом её конверсия снова падала, в конце графика есть небольшой рост."
   ]
  },
  {
   "cell_type": "markdown",
   "metadata": {},
   "source": [
    "### Подсчитаем количество заказов по пользователям и построим точечный график на их основе"
   ]
  },
  {
   "cell_type": "code",
   "execution_count": 59,
   "metadata": {},
   "outputs": [
    {
     "data": {
      "text/html": [
       "<div>\n",
       "<style scoped>\n",
       "    .dataframe tbody tr th:only-of-type {\n",
       "        vertical-align: middle;\n",
       "    }\n",
       "\n",
       "    .dataframe tbody tr th {\n",
       "        vertical-align: top;\n",
       "    }\n",
       "\n",
       "    .dataframe thead th {\n",
       "        text-align: right;\n",
       "    }\n",
       "</style>\n",
       "<table border=\"1\" class=\"dataframe\">\n",
       "  <thead>\n",
       "    <tr style=\"text-align: right;\">\n",
       "      <th></th>\n",
       "      <th>visitorId</th>\n",
       "      <th>orders</th>\n",
       "    </tr>\n",
       "  </thead>\n",
       "  <tbody>\n",
       "    <tr>\n",
       "      <th>1023</th>\n",
       "      <td>4256040402</td>\n",
       "      <td>11</td>\n",
       "    </tr>\n",
       "    <tr>\n",
       "      <th>591</th>\n",
       "      <td>2458001652</td>\n",
       "      <td>11</td>\n",
       "    </tr>\n",
       "    <tr>\n",
       "      <th>569</th>\n",
       "      <td>2378935119</td>\n",
       "      <td>9</td>\n",
       "    </tr>\n",
       "    <tr>\n",
       "      <th>487</th>\n",
       "      <td>2038680547</td>\n",
       "      <td>8</td>\n",
       "    </tr>\n",
       "    <tr>\n",
       "      <th>44</th>\n",
       "      <td>199603092</td>\n",
       "      <td>5</td>\n",
       "    </tr>\n",
       "    <tr>\n",
       "      <th>744</th>\n",
       "      <td>3062433592</td>\n",
       "      <td>5</td>\n",
       "    </tr>\n",
       "    <tr>\n",
       "      <th>55</th>\n",
       "      <td>237748145</td>\n",
       "      <td>5</td>\n",
       "    </tr>\n",
       "    <tr>\n",
       "      <th>917</th>\n",
       "      <td>3803269165</td>\n",
       "      <td>5</td>\n",
       "    </tr>\n",
       "    <tr>\n",
       "      <th>299</th>\n",
       "      <td>1230306981</td>\n",
       "      <td>5</td>\n",
       "    </tr>\n",
       "    <tr>\n",
       "      <th>897</th>\n",
       "      <td>3717692402</td>\n",
       "      <td>5</td>\n",
       "    </tr>\n",
       "  </tbody>\n",
       "</table>\n",
       "</div>"
      ],
      "text/plain": [
       "       visitorId  orders\n",
       "1023  4256040402      11\n",
       "591   2458001652      11\n",
       "569   2378935119       9\n",
       "487   2038680547       8\n",
       "44     199603092       5\n",
       "744   3062433592       5\n",
       "55     237748145       5\n",
       "917   3803269165       5\n",
       "299   1230306981       5\n",
       "897   3717692402       5"
      ]
     },
     "metadata": {},
     "output_type": "display_data"
    }
   ],
   "source": [
    "# Cчитаем количество заказов по пользователям\n",
    "ordersByUsers = (\n",
    "    orders.groupby('visitorId', as_index=False)\n",
    "    .agg({'transactionId': 'nunique'})\n",
    ")\n",
    "\n",
    "# Даем столбцам понятные названия\n",
    "ordersByUsers.columns = ['visitorId', 'orders']\n",
    "\n",
    "# Выводим первые 10 строк таблицы на экран\n",
    "display(ordersByUsers.sort_values(by='orders', ascending=False).head(10)) "
   ]
  },
  {
   "cell_type": "code",
   "execution_count": 60,
   "metadata": {},
   "outputs": [
    {
     "data": {
      "image/png": "[encoded data removed]",
      "text/plain": [
       "<Figure size 640x480 with 1 Axes>"
      ]
     },
     "metadata": {},
     "output_type": "display_data"
    }
   ],
   "source": [
    "# Строим точечный график количества заказов по пользователям\n",
    "x_values = pd.Series(range(0,len(ordersByUsers)))\n",
    "plt.scatter(x_values, ordersByUsers['orders'])\n",
    "\n",
    "plt.title('Количество заказов на пользователя')\n",
    "plt.xlabel('Пользователи')\n",
    "plt.ylabel('Количество заказов')\n",
    "plt.show()"
   ]
  },
  {
   "cell_type": "markdown",
   "metadata": {},
   "source": [
    "Абсолютное большинство пользователей совершило по 1 заказу, так же значительное количество совершили 2 заказа, реже - 3. Однако наблюдаем что есть пользователи, совершившие 8, 9 и 11 заказов."
   ]
  },
  {
   "cell_type": "markdown",
   "metadata": {},
   "source": [
    "### Посчитаем выборочные перцентили количества заказов на одного пользователя"
   ]
  },
  {
   "cell_type": "code",
   "execution_count": 61,
   "metadata": {},
   "outputs": [
    {
     "data": {
      "text/plain": [
       "array([2., 4.])"
      ]
     },
     "metadata": {},
     "output_type": "display_data"
    }
   ],
   "source": [
    "display(np.percentile(ordersByUsers['orders'], [95, 99])) "
   ]
  },
  {
   "cell_type": "markdown",
   "metadata": {},
   "source": [
    "Не более 5% пользователей оформляли больше чем 2 заказ. И 1% пользователей заказывали более 4 раз. \n",
    "Разумно выбрать 2 заказа на одного пользователя за верхнюю границу числа заказов, и отсеять аномальных пользователей по ней."
   ]
  },
  {
   "cell_type": "markdown",
   "metadata": {},
   "source": [
    "###  Строим точечный график распределения стоимостей заказов"
   ]
  },
  {
   "cell_type": "code",
   "execution_count": 62,
   "metadata": {},
   "outputs": [
    {
     "data": {
      "image/png": "[encoded data removed]",
      "text/plain": [
       "<Figure size 640x480 with 1 Axes>"
      ]
     },
     "metadata": {},
     "output_type": "display_data"
    }
   ],
   "source": [
    "x_values = pd.Series(range(0,len(orders['revenue'])))\n",
    "plt.ticklabel_format(style='plain')\n",
    "plt.scatter(x_values, orders['revenue'])\n",
    "plt.title('Распределение стоимости заказов')\n",
    "plt.xlabel('Заказы')\n",
    "plt.ylabel('Стоимость')\n",
    "plt.show()"
   ]
  },
  {
   "cell_type": "markdown",
   "metadata": {},
   "source": [
    "Видим что есть очень дорогие заказы - в районе 200 000, и даже более 1 200 000 у.е."
   ]
  },
  {
   "cell_type": "code",
   "execution_count": 63,
   "metadata": {},
   "outputs": [
    {
     "data": {
      "text/plain": [
       "425     1294500\n",
       "1196     202740\n",
       "Name: revenue, dtype: int64"
      ]
     },
     "execution_count": 63,
     "metadata": {},
     "output_type": "execute_result"
    }
   ],
   "source": [
    "# Находим стоимость самых дорогих заказов\n",
    "orders['revenue'].sort_values(ascending=False).head(2)"
   ]
  },
  {
   "cell_type": "code",
   "execution_count": 64,
   "metadata": {},
   "outputs": [
    {
     "data": {
      "image/png": "[encoded data removed]",
      "text/plain": [
       "<Figure size 640x480 with 1 Axes>"
      ]
     },
     "metadata": {},
     "output_type": "display_data"
    }
   ],
   "source": [
    "# Строим график распределения стоимости заказов без учета самых дорогих\n",
    "orders_norm = orders['revenue'][orders['revenue'] < 202740]\n",
    "x_values = pd.Series(range(0,len(orders_norm)))\n",
    "plt.ticklabel_format(style='plain')\n",
    "plt.scatter(x_values, orders_norm)\n",
    "plt.title('Распределение стоимости заказов')\n",
    "plt.xlabel('Заказы')\n",
    "plt.ylabel('Стоимость')\n",
    "plt.show()                "
   ]
  },
  {
   "cell_type": "markdown",
   "metadata": {},
   "source": [
    "По графику можно увидеть, что больше всего заказов стоимостью до 20 тыс. у.е."
   ]
  },
  {
   "cell_type": "markdown",
   "metadata": {},
   "source": [
    "### Посчитаем выборочные перцентили стоимости заказов"
   ]
  },
  {
   "cell_type": "code",
   "execution_count": 65,
   "metadata": {},
   "outputs": [
    {
     "data": {
      "text/plain": [
       "array([28000. , 58233.2])"
      ]
     },
     "metadata": {},
     "output_type": "display_data"
    }
   ],
   "source": [
    "display(np.percentile(orders['revenue'], [95, 99]))"
   ]
  },
  {
   "cell_type": "markdown",
   "metadata": {},
   "source": [
    "Не более 1% заказов стоят более 58,2 тыс. у.е., не более 5% заказов дороже 28 тыс. у.е. Оставим верхний предел для стоимости заказа 28 тыс. у.е."
   ]
  },
  {
   "cell_type": "markdown",
   "metadata": {},
   "source": [
    "# Анализ A/B-теста"
   ]
  },
  {
   "cell_type": "markdown",
   "metadata": {},
   "source": [
    "Так как в наших данных есть большие выбросы, проверку будем осуществлять с помощью непараметрического теста Уилкоксона-Манна-Уитни.\n",
    "\n",
    "Посчитаем статистическую значимость различия в среднем количестве заказов на посетителя между группами по \"сырым данным\". \n",
    "Сформулируем гипотезы. \n",
    "\n",
    "Нулевая: различий в среднем количестве заказов на посетителя между группами нет. \n",
    "\n",
    "Альтернативная: различия в среднем количестве заказов на посетителя между группами есть."
   ]
  },
  {
   "cell_type": "code",
   "execution_count": 66,
   "metadata": {},
   "outputs": [],
   "source": [
    "visitorsADaily = visitors[visitors['group'] == 'A'][['date', 'visitors']]\n",
    "visitorsADaily.columns = ['date', 'visitorsPerDateA']\n",
    "\n",
    "visitorsACummulative = visitorsADaily.apply(\n",
    "    lambda x: visitorsADaily[visitorsADaily['date'] <= x['date']].agg(\n",
    "        {'date': 'max', 'visitorsPerDateA': 'sum'}\n",
    "    ),\n",
    "    axis=1,\n",
    ")\n",
    "visitorsACummulative.columns = ['date', 'visitorsCummulativeA']\n",
    "\n",
    "visitorsBDaily = visitors[visitors['group'] == 'B'][['date', 'visitors']]\n",
    "visitorsBDaily.columns = ['date', 'visitorsPerDateB']\n",
    "\n",
    "visitorsBCummulative = visitorsBDaily.apply(\n",
    "    lambda x: visitorsBDaily[visitorsBDaily['date'] <= x['date']].agg(\n",
    "        {'date': 'max', 'visitorsPerDateB': 'sum'}\n",
    "    ),\n",
    "    axis=1,\n",
    ")\n",
    "visitorsBCummulative.columns = ['date', 'visitorsCummulativeB']\n",
    "\n",
    "ordersADaily = (\n",
    "    orders[orders['group'] == 'A'][['date', 'transactionId', 'visitorId', 'revenue']]\n",
    "    .groupby('date', as_index=False)\n",
    "    .agg({'transactionId': pd.Series.nunique, 'revenue': 'sum'})\n",
    ")\n",
    "ordersADaily.columns = ['date', 'ordersPerDateA', 'revenuePerDateA']\n",
    "\n",
    "ordersACummulative = ordersADaily.apply(\n",
    "    lambda x: ordersADaily[ordersADaily['date'] <= x['date']].agg(\n",
    "        {'date': 'max', 'ordersPerDateA': 'sum', 'revenuePerDateA': 'sum'}\n",
    "    ),\n",
    "    axis=1,\n",
    ").sort_values(by=['date'])\n",
    "ordersACummulative.columns = [\n",
    "    'date',\n",
    "    'ordersCummulativeA',\n",
    "    'revenueCummulativeA',\n",
    "]\n",
    "\n",
    "ordersBDaily = (\n",
    "    orders[orders['group'] == 'B'][['date', 'transactionId', 'visitorId', 'revenue']]\n",
    "    .groupby('date', as_index=False)\n",
    "    .agg({'transactionId': pd.Series.nunique, 'revenue': 'sum'})\n",
    ")\n",
    "ordersBDaily.columns = ['date', 'ordersPerDateB', 'revenuePerDateB']\n",
    "\n",
    "ordersBCummulative = ordersBDaily.apply(\n",
    "    lambda x: ordersBDaily[ordersBDaily['date'] <= x['date']].agg(\n",
    "        {'date': 'max', 'ordersPerDateB': 'sum', 'revenuePerDateB': 'sum'}\n",
    "    ),\n",
    "    axis=1,\n",
    ").sort_values(by=['date'])\n",
    "ordersBCummulative.columns = [\n",
    "    'date',\n",
    "    'ordersCummulativeB',\n",
    "    'revenueCummulativeB',\n",
    "]\n",
    "\n",
    "data = (\n",
    "    ordersADaily.merge(\n",
    "        ordersBDaily, left_on='date', right_on='date', how='left'\n",
    "    )\n",
    "    .merge(ordersACummulative, left_on='date', right_on='date', how='left')\n",
    "    .merge(ordersBCummulative, left_on='date', right_on='date', how='left')\n",
    "    .merge(visitorsADaily, left_on='date', right_on='date', how='left')\n",
    "    .merge(visitorsBDaily, left_on='date', right_on='date', how='left')\n",
    "    .merge(visitorsACummulative, left_on='date', right_on='date', how='left')\n",
    "    .merge(visitorsBCummulative, left_on='date', right_on='date', how='left')\n",
    ")"
   ]
  },
  {
   "cell_type": "code",
   "execution_count": 67,
   "metadata": {},
   "outputs": [
    {
     "data": {
      "text/plain": [
       "'p-value:'"
      ]
     },
     "metadata": {},
     "output_type": "display_data"
    },
    {
     "data": {
      "text/plain": [
       "'0.017'"
      ]
     },
     "metadata": {},
     "output_type": "display_data"
    },
    {
     "data": {
      "text/plain": [
       "'Относительное различие в среднем количестве заказов на посетителя:'"
      ]
     },
     "metadata": {},
     "output_type": "display_data"
    },
    {
     "data": {
      "text/plain": [
       "'0.138'"
      ]
     },
     "metadata": {},
     "output_type": "display_data"
    }
   ],
   "source": [
    "# Создадим переменные ordersByUsersA и ordersByUsersB со столбцами ['userId', 'orders']. \n",
    "# В них для пользователей, которые заказывали хотя бы 1 раз, укажем число совершённых заказов\n",
    "ordersByUsersA = (\n",
    "    orders[orders['group'] == 'A']\n",
    "    .groupby('visitorId', as_index=False)\n",
    "    .agg({'transactionId': pd.Series.nunique})\n",
    ")\n",
    "ordersByUsersA.columns = ['userId', 'orders']\n",
    "\n",
    "ordersByUsersB = (\n",
    "    orders[orders['group'] == 'B']\n",
    "    .groupby('visitorId', as_index=False)\n",
    "    .agg({'transactionId': pd.Series.nunique})\n",
    ")\n",
    "ordersByUsersB.columns = ['userId', 'orders']\n",
    "\n",
    "# Объявим переменные sampleA и sampleB, в которых пользователям из разных групп будет соответствовать количество заказов. \n",
    "# Тем, кто ничего не заказал, будут соответствовать нули\n",
    "sampleA = pd.concat(\n",
    "    [\n",
    "        ordersByUsersA['orders'],\n",
    "        pd.Series(\n",
    "            0,\n",
    "            index=np.arange(\n",
    "                data['visitorsPerDateA'].sum() - len(ordersByUsersA['orders'])\n",
    "            ),\n",
    "            name='orders',\n",
    "        ),\n",
    "    ],\n",
    "    axis=0,\n",
    ")\n",
    "\n",
    "sampleB = pd.concat(\n",
    "    [\n",
    "        ordersByUsersB['orders'],\n",
    "        pd.Series(\n",
    "            0,\n",
    "            index=np.arange(\n",
    "                data['visitorsPerDateB'].sum() - len(ordersByUsersB['orders'])\n",
    "            ),\n",
    "            name='orders',\n",
    "        ),\n",
    "    ],\n",
    "    axis=0,\n",
    ")\n",
    "\n",
    "# Применим критерий и отформатируем p-value, округлив его до трёх знаков после запятой\n",
    "display(\"p-value:\",\"{0:.3f}\".format(stats.mannwhitneyu(sampleA, sampleB)[1]))\n",
    "\n",
    "# Выведем относительный прирост среднего числа заказов группы B\n",
    "display(\"Относительное различие в среднем количестве заказов на посетителя:\",\"{0:.3f}\".format(sampleB.mean() / sampleA.mean() - 1))"
   ]
  },
  {
   "cell_type": "markdown",
   "metadata": {},
   "source": [
    "Вывод: По «сырым» данным различия в среднем числе заказов на посетителя групп A и B есть. \n",
    "Первое число — p-value = 0.017 меньше 0.05. Значит, нулевую гипотезу о том, что статистически значимых различий в среднем числе заказов между группами нет, отвергаем. Относительный выигрыш группы B равен 13,8% — второе число в выводе."
   ]
  },
  {
   "cell_type": "markdown",
   "metadata": {},
   "source": [
    "### Теперь проверим статистическую значимость различий в среднем чеке между сегментами. \n",
    "\n",
    "Нулевая гипотеза: различий в среднем чеке между группами нет. Альтернативная гипотеза: различия в среднем чеке между группами есть. "
   ]
  },
  {
   "cell_type": "code",
   "execution_count": 68,
   "metadata": {},
   "outputs": [
    {
     "data": {
      "text/plain": [
       "'p-value:'"
      ]
     },
     "metadata": {},
     "output_type": "display_data"
    },
    {
     "data": {
      "text/plain": [
       "'0.729'"
      ]
     },
     "metadata": {},
     "output_type": "display_data"
    },
    {
     "data": {
      "text/plain": [
       "'Отностельное различие в среднем чеке между группами:'"
      ]
     },
     "metadata": {},
     "output_type": "display_data"
    },
    {
     "data": {
      "text/plain": [
       "'0.259'"
      ]
     },
     "metadata": {},
     "output_type": "display_data"
    }
   ],
   "source": [
    "# Чтобы рассчитать статистическую значимость различий в среднем чеке, \n",
    "# передадим критерию mannwhitneyu() данные о выручке с заказов\n",
    "display('p-value:', '{0:.3f}'.format(stats.mannwhitneyu(\n",
    "    orders[orders['group']=='A']['revenue'], orders[orders['group']=='B']['revenue'])[1]))\n",
    "\n",
    "# Найдём относительные различия в среднем чеке между группами\n",
    "display('Отностельное различие в среднем чеке между группами:', '{0:.3f}'.format(orders[orders['group']=='B']['revenue'].mean()/orders[orders['group']=='A']['revenue'].mean()-1))"
   ]
  },
  {
   "cell_type": "markdown",
   "metadata": {},
   "source": [
    "P-value значительно больше 0.05. Значит, причин отвергать нулевую гипотезу и считать, что в среднем чеке есть различия, нет. Впрочем, средний чек группы B значительно выше среднего чека группы A."
   ]
  },
  {
   "cell_type": "markdown",
   "metadata": {},
   "source": [
    "### Очищаем данные\n",
    "Примем за аномальных пользователей тех, кто совершил более 2 заказов или совершил заказ дороже 28 000 рублей. Так мы уберём  5% пользователей с наибольшим числом заказов и пользователей с дорогими заказами."
   ]
  },
  {
   "cell_type": "code",
   "execution_count": 69,
   "metadata": {},
   "outputs": [
    {
     "data": {
      "text/plain": [
       "1099    148427295\n",
       "18      199603092\n",
       "928     204675465\n",
       "23      237748145\n",
       "37      249864742\n",
       "dtype: int64"
      ]
     },
     "metadata": {},
     "output_type": "display_data"
    },
    {
     "data": {
      "text/plain": [
       "74"
      ]
     },
     "metadata": {},
     "output_type": "display_data"
    },
    {
     "data": {
      "text/plain": [
       "7.0"
      ]
     },
     "metadata": {},
     "output_type": "display_data"
    }
   ],
   "source": [
    "# Узнаем, сколько всего аномальных пользователей\n",
    "usersWithManyOrders = pd.concat(\n",
    "    [\n",
    "        ordersByUsersA[ordersByUsersA['orders'] > np.percentile(ordersByUsersA['orders'],95)]['userId'],\n",
    "        ordersByUsersB[ordersByUsersB['orders'] > np.percentile(ordersByUsersB['orders'],95)]['userId'],\n",
    "    ],\n",
    "    axis=0,\n",
    ")\n",
    "usersWithExpensiveOrders = orders[orders['revenue'] > np.percentile(orders['revenue'],95)]['visitorId']\n",
    "abnormalUsers = (\n",
    "    pd.concat([usersWithManyOrders, usersWithExpensiveOrders], axis=0)\n",
    "    .drop_duplicates()\n",
    "    .sort_values()\n",
    ")\n",
    "display(abnormalUsers.head(5))\n",
    "display(abnormalUsers.shape[0])\n",
    "display(round(abnormalUsers.shape[0] / len(orders['visitorId'].unique()) * 100, 0))"
   ]
  },
  {
   "cell_type": "markdown",
   "metadata": {},
   "source": [
    "Всего аномальных пользователей 74 - и это около 7% наших данных. \n",
    "\n",
    "Узнаем, как их действия повлияли на результаты теста. Посчитаем статистическую значимость различий в среднем количестве заказов между группами теста по очищенным данным. Сначала подготовим выборки количества заказов по пользователям по группам теста."
   ]
  },
  {
   "cell_type": "code",
   "execution_count": 70,
   "metadata": {},
   "outputs": [],
   "source": [
    "sampleAFiltered = pd.concat(\n",
    "    [\n",
    "        ordersByUsersA[\n",
    "            np.logical_not(ordersByUsersA['userId'].isin(abnormalUsers))\n",
    "        ]['orders'],\n",
    "        pd.Series(\n",
    "            0,\n",
    "            index=np.arange(\n",
    "                data['visitorsPerDateA'].sum() - len(ordersByUsersA['orders'])\n",
    "            ),\n",
    "            name='orders',\n",
    "        ),\n",
    "    ],\n",
    "    axis=0,\n",
    ")\n",
    "\n",
    "sampleBFiltered = pd.concat(\n",
    "    [\n",
    "        ordersByUsersB[\n",
    "            np.logical_not(ordersByUsersB['userId'].isin(abnormalUsers))\n",
    "        ]['orders'],\n",
    "        pd.Series(\n",
    "            0,\n",
    "            index=np.arange(\n",
    "                data['visitorsPerDateB'].sum() - len(ordersByUsersB['orders'])\n",
    "            ),\n",
    "            name='orders',\n",
    "        ),\n",
    "    ],\n",
    "    axis=0,\n",
    ")"
   ]
  },
  {
   "cell_type": "code",
   "execution_count": 71,
   "metadata": {},
   "outputs": [
    {
     "data": {
      "text/plain": [
       "'p-value:'"
      ]
     },
     "metadata": {},
     "output_type": "display_data"
    },
    {
     "data": {
      "text/plain": [
       "'0.013'"
      ]
     },
     "metadata": {},
     "output_type": "display_data"
    },
    {
     "data": {
      "text/plain": [
       "'Относительное различие в среднем количестве заказов на посетителя:'"
      ]
     },
     "metadata": {},
     "output_type": "display_data"
    },
    {
     "data": {
      "text/plain": [
       "'0.173'"
      ]
     },
     "metadata": {},
     "output_type": "display_data"
    }
   ],
   "source": [
    "display('p-value:','{0:.3f}'.format(stats.mannwhitneyu(sampleAFiltered, sampleBFiltered)[1]))\n",
    "display('Относительное различие в среднем количестве заказов на посетителя:','{0:.3f}'\n",
    "        .format(sampleBFiltered.mean()/sampleAFiltered.mean()-1))"
   ]
  },
  {
   "cell_type": "markdown",
   "metadata": {},
   "source": [
    "Результаты по количеству заказов на посетителя по сравнению с \"сырыми данными\" практически не изменились. Т.е., нулевую гипотезу отвергаем - статистически значимые различия в количестве заказов на посетителя между группами есть. Относительный выигрыш группы B немного увеличился - с 13,8% до 17,3%."
   ]
  },
  {
   "cell_type": "code",
   "execution_count": 72,
   "metadata": {},
   "outputs": [
    {
     "data": {
      "text/plain": [
       "'p-value:'"
      ]
     },
     "metadata": {},
     "output_type": "display_data"
    },
    {
     "data": {
      "text/plain": [
       "'0.738'"
      ]
     },
     "metadata": {},
     "output_type": "display_data"
    },
    {
     "data": {
      "text/plain": [
       "'Отностельное различие в среднем чеке между группами:'"
      ]
     },
     "metadata": {},
     "output_type": "display_data"
    },
    {
     "data": {
      "text/plain": [
       "'-0.020'"
      ]
     },
     "metadata": {},
     "output_type": "display_data"
    }
   ],
   "source": [
    "display('p-value:',\n",
    "    '{0:.3f}'.format(\n",
    "        stats.mannwhitneyu(\n",
    "            orders[\n",
    "                np.logical_and(\n",
    "                    orders['group'] == 'A',\n",
    "                    np.logical_not(orders['visitorId'].isin(abnormalUsers)),\n",
    "                )\n",
    "            ]['revenue'],\n",
    "            orders[\n",
    "                np.logical_and(\n",
    "                    orders['group'] == 'B',\n",
    "                    np.logical_not(orders['visitorId'].isin(abnormalUsers)),\n",
    "                )\n",
    "            ]['revenue'],\n",
    "        )[1]\n",
    "    )\n",
    ")\n",
    "\n",
    "display('Отностельное различие в среднем чеке между группами:', \n",
    "    \"{0:.3f}\".format(\n",
    "        orders[\n",
    "            np.logical_and(\n",
    "                orders['group'] == 'B',\n",
    "                np.logical_not(orders['visitorId'].isin(abnormalUsers)),\n",
    "            )\n",
    "        ]['revenue'].mean()\n",
    "        / orders[\n",
    "            np.logical_and(\n",
    "                orders['group'] == 'A',\n",
    "                np.logical_not(orders['visitorId'].isin(abnormalUsers)),\n",
    "            )\n",
    "        ]['revenue'].mean()\n",
    "        - 1\n",
    "    )\n",
    ")"
   ]
  },
  {
   "cell_type": "markdown",
   "metadata": {},
   "source": [
    "P-value увеличился, подтверждаем по очищенным данным, что статистически значимых различий в среднем чеке между сегментами нет. Однако разница между сегментами изменилась из-за удаления аномально дорогих заказов, теперь средний чек группы В немного меньше, чем в группе А, на 2%."
   ]
  },
  {
   "cell_type": "markdown",
   "metadata": {},
   "source": [
    "## Выводы из A/B-теста\n",
    "\n",
    "- Есть статистически значимое различие по среднему количеству заказов на посетителя между группами как по сырым данным, так и после фильтрации аномалий.\n",
    "- Как по сырым, так и по очищенным данным нет статистически значимого различия по среднему чеку между группами. Однако, средний чек группе В, значительно превосходивший группу А, после удаления аномалий в  почти с ним сравнялася (стал на 2% ниже).\n",
    "- График различия среднего количества заказов на посетителя между группами сообщает, что в целом результаты группы B лучше группы A. Однако, на графике есть пик (\"скачок\") затем тенденция к снижению, а в конце графика есть небольшой рост.\n",
    "- График различия среднего чека в нескольких точках резко «скачет». Однако ближе к концу график имеет тенденцию к меньшим колебаниям, но стабилизации не наблюдается.\n",
    "\n",
    "Исходя из того, график различия по среднему количеству заказов на посетителя за этот период близок к стабилизации, есть понимание, что результаты группы В превосходят группу А. Так же тест продолжается достаточно долгий период - 1 месяц, и, несмотря на то, что график различия среднего чека так и не стабилизировался, все равно можно принять решение закончить тестирование и признать победителем группу В."
   ]
  }
 ],
 "metadata": {
  "ExecuteTimeLog": [
   {
    "duration": 51,
    "start_time": "2023-02-27T19:01:11.924Z"
   },
   {
    "duration": 539,
    "start_time": "2023-02-27T19:01:14.390Z"
   },
   {
    "duration": 3,
    "start_time": "2023-02-27T19:01:16.202Z"
   },
   {
    "duration": 176,
    "start_time": "2023-02-27T19:01:16.978Z"
   },
   {
    "duration": 13,
    "start_time": "2023-02-27T19:01:17.708Z"
   },
   {
    "duration": 4,
    "start_time": "2023-02-27T19:06:55.975Z"
   },
   {
    "duration": 3,
    "start_time": "2023-02-27T19:07:25.607Z"
   },
   {
    "duration": 16,
    "start_time": "2023-02-27T19:07:37.722Z"
   },
   {
    "duration": 13,
    "start_time": "2023-02-27T19:08:56.642Z"
   },
   {
    "duration": 1177,
    "start_time": "2023-03-22T20:04:24.375Z"
   },
   {
    "duration": 62,
    "start_time": "2023-03-22T20:04:25.554Z"
   },
   {
    "duration": 13,
    "start_time": "2023-03-22T20:04:25.618Z"
   },
   {
    "duration": 5,
    "start_time": "2023-03-22T20:04:25.633Z"
   },
   {
    "duration": 14,
    "start_time": "2023-03-22T20:04:25.639Z"
   },
   {
    "duration": 13,
    "start_time": "2023-03-22T20:04:25.655Z"
   },
   {
    "duration": 20,
    "start_time": "2023-03-22T20:04:25.670Z"
   },
   {
    "duration": 94,
    "start_time": "2023-03-22T20:04:25.692Z"
   },
   {
    "duration": 22,
    "start_time": "2023-03-22T20:04:25.788Z"
   },
   {
    "duration": 12,
    "start_time": "2023-03-22T20:04:25.813Z"
   },
   {
    "duration": 13,
    "start_time": "2023-03-22T20:04:25.827Z"
   },
   {
    "duration": 27,
    "start_time": "2023-03-22T20:04:25.842Z"
   },
   {
    "duration": 10,
    "start_time": "2023-03-22T20:04:25.871Z"
   },
   {
    "duration": 302,
    "start_time": "2023-03-22T20:04:25.882Z"
   },
   {
    "duration": 286,
    "start_time": "2023-03-22T20:04:26.185Z"
   },
   {
    "duration": 213,
    "start_time": "2023-03-22T20:04:26.473Z"
   },
   {
    "duration": 313,
    "start_time": "2023-03-22T20:04:26.687Z"
   },
   {
    "duration": 268,
    "start_time": "2023-03-22T20:04:27.002Z"
   },
   {
    "duration": 367,
    "start_time": "2023-03-22T20:04:27.271Z"
   },
   {
    "duration": 23,
    "start_time": "2023-03-22T20:04:27.640Z"
   },
   {
    "duration": 124,
    "start_time": "2023-03-22T20:04:27.665Z"
   },
   {
    "duration": 5,
    "start_time": "2023-03-22T20:04:27.791Z"
   },
   {
    "duration": 141,
    "start_time": "2023-03-22T20:04:27.797Z"
   },
   {
    "duration": 4,
    "start_time": "2023-03-22T20:04:27.940Z"
   },
   {
    "duration": 235,
    "start_time": "2023-03-22T20:04:27.946Z"
   },
   {
    "duration": 180,
    "start_time": "2023-03-22T20:04:28.183Z"
   },
   {
    "duration": 12,
    "start_time": "2023-03-22T20:04:28.364Z"
   },
   {
    "duration": 11,
    "start_time": "2023-03-22T20:04:28.379Z"
   },
   {
    "duration": 8,
    "start_time": "2023-03-22T20:04:28.391Z"
   },
   {
    "duration": 25,
    "start_time": "2023-03-22T20:04:28.401Z"
   },
   {
    "duration": 45,
    "start_time": "2023-03-22T20:04:28.428Z"
   },
   {
    "duration": 55,
    "start_time": "2023-03-23T06:07:42.513Z"
   },
   {
    "duration": 1350,
    "start_time": "2023-03-23T06:07:50.353Z"
   },
   {
    "duration": 177,
    "start_time": "2023-03-23T06:07:51.706Z"
   },
   {
    "duration": 19,
    "start_time": "2023-03-23T06:07:51.885Z"
   },
   {
    "duration": 5,
    "start_time": "2023-03-23T06:07:51.907Z"
   },
   {
    "duration": 18,
    "start_time": "2023-03-23T06:07:51.914Z"
   },
   {
    "duration": 18,
    "start_time": "2023-03-23T06:07:51.934Z"
   },
   {
    "duration": 16,
    "start_time": "2023-03-23T06:07:51.954Z"
   },
   {
    "duration": 261,
    "start_time": "2023-03-23T06:07:51.972Z"
   },
   {
    "duration": 25,
    "start_time": "2023-03-23T06:07:52.235Z"
   },
   {
    "duration": 50,
    "start_time": "2023-03-23T06:07:52.263Z"
   },
   {
    "duration": 19,
    "start_time": "2023-03-23T06:07:52.315Z"
   },
   {
    "duration": 28,
    "start_time": "2023-03-23T06:07:52.336Z"
   },
   {
    "duration": 13,
    "start_time": "2023-03-23T06:07:52.366Z"
   },
   {
    "duration": 341,
    "start_time": "2023-03-23T06:07:52.404Z"
   },
   {
    "duration": 320,
    "start_time": "2023-03-23T06:07:52.747Z"
   },
   {
    "duration": 250,
    "start_time": "2023-03-23T06:07:53.069Z"
   },
   {
    "duration": 386,
    "start_time": "2023-03-23T06:07:53.322Z"
   },
   {
    "duration": 263,
    "start_time": "2023-03-23T06:07:53.710Z"
   },
   {
    "duration": 394,
    "start_time": "2023-03-23T06:07:53.975Z"
   },
   {
    "duration": 12,
    "start_time": "2023-03-23T06:07:54.371Z"
   },
   {
    "duration": 159,
    "start_time": "2023-03-23T06:07:54.384Z"
   },
   {
    "duration": 6,
    "start_time": "2023-03-23T06:07:54.545Z"
   },
   {
    "duration": 171,
    "start_time": "2023-03-23T06:07:54.553Z"
   },
   {
    "duration": 4,
    "start_time": "2023-03-23T06:07:54.726Z"
   },
   {
    "duration": 259,
    "start_time": "2023-03-23T06:07:54.732Z"
   },
   {
    "duration": 216,
    "start_time": "2023-03-23T06:07:54.993Z"
   },
   {
    "duration": 14,
    "start_time": "2023-03-23T06:07:55.218Z"
   },
   {
    "duration": 12,
    "start_time": "2023-03-23T06:07:55.235Z"
   },
   {
    "duration": 9,
    "start_time": "2023-03-23T06:07:55.248Z"
   },
   {
    "duration": 49,
    "start_time": "2023-03-23T06:07:55.259Z"
   },
   {
    "duration": 22,
    "start_time": "2023-03-23T06:07:55.310Z"
   },
   {
    "duration": 1131,
    "start_time": "2023-03-25T11:59:46.658Z"
   },
   {
    "duration": 62,
    "start_time": "2023-03-25T11:59:47.791Z"
   },
   {
    "duration": 12,
    "start_time": "2023-03-25T11:59:47.854Z"
   },
   {
    "duration": 3,
    "start_time": "2023-03-25T11:59:47.868Z"
   },
   {
    "duration": 11,
    "start_time": "2023-03-25T11:59:47.873Z"
   },
   {
    "duration": 10,
    "start_time": "2023-03-25T11:59:47.886Z"
   },
   {
    "duration": 25,
    "start_time": "2023-03-25T11:59:47.897Z"
   },
   {
    "duration": 84,
    "start_time": "2023-03-25T11:59:47.924Z"
   },
   {
    "duration": 19,
    "start_time": "2023-03-25T11:59:48.010Z"
   },
   {
    "duration": 11,
    "start_time": "2023-03-25T11:59:48.032Z"
   },
   {
    "duration": 21,
    "start_time": "2023-03-25T11:59:48.045Z"
   },
   {
    "duration": 15,
    "start_time": "2023-03-25T11:59:48.068Z"
   },
   {
    "duration": 7,
    "start_time": "2023-03-25T11:59:48.085Z"
   },
   {
    "duration": 9,
    "start_time": "2023-03-25T11:59:48.093Z"
   },
   {
    "duration": 37,
    "start_time": "2023-03-25T11:59:48.103Z"
   },
   {
    "duration": 8,
    "start_time": "2023-03-25T11:59:48.142Z"
   },
   {
    "duration": 319,
    "start_time": "2023-03-25T11:59:48.152Z"
   },
   {
    "duration": 293,
    "start_time": "2023-03-25T11:59:48.473Z"
   },
   {
    "duration": 211,
    "start_time": "2023-03-25T11:59:48.767Z"
   },
   {
    "duration": 287,
    "start_time": "2023-03-25T11:59:48.979Z"
   },
   {
    "duration": 226,
    "start_time": "2023-03-25T11:59:49.267Z"
   },
   {
    "duration": 331,
    "start_time": "2023-03-25T11:59:49.494Z"
   },
   {
    "duration": 16,
    "start_time": "2023-03-25T11:59:49.827Z"
   },
   {
    "duration": 126,
    "start_time": "2023-03-25T11:59:49.845Z"
   },
   {
    "duration": 4,
    "start_time": "2023-03-25T11:59:49.973Z"
   },
   {
    "duration": 141,
    "start_time": "2023-03-25T11:59:49.979Z"
   },
   {
    "duration": 5,
    "start_time": "2023-03-25T11:59:50.122Z"
   },
   {
    "duration": 126,
    "start_time": "2023-03-25T11:59:50.140Z"
   },
   {
    "duration": 4,
    "start_time": "2023-03-25T11:59:50.268Z"
   },
   {
    "duration": 1512,
    "start_time": "2023-03-25T11:59:50.274Z"
   },
   {
    "duration": 0,
    "start_time": "2023-03-25T11:59:51.788Z"
   },
   {
    "duration": 0,
    "start_time": "2023-03-25T11:59:51.789Z"
   },
   {
    "duration": 0,
    "start_time": "2023-03-25T11:59:51.790Z"
   },
   {
    "duration": 0,
    "start_time": "2023-03-25T11:59:51.791Z"
   },
   {
    "duration": 0,
    "start_time": "2023-03-25T11:59:51.792Z"
   },
   {
    "duration": 10,
    "start_time": "2023-03-25T12:00:27.346Z"
   },
   {
    "duration": 46,
    "start_time": "2023-03-25T15:01:33.575Z"
   },
   {
    "duration": 1253,
    "start_time": "2023-03-25T15:01:40.234Z"
   },
   {
    "duration": 95,
    "start_time": "2023-03-25T15:01:41.490Z"
   },
   {
    "duration": 14,
    "start_time": "2023-03-25T15:01:41.586Z"
   },
   {
    "duration": 8,
    "start_time": "2023-03-25T15:01:41.602Z"
   },
   {
    "duration": 15,
    "start_time": "2023-03-25T15:01:41.612Z"
   },
   {
    "duration": 12,
    "start_time": "2023-03-25T15:01:41.628Z"
   },
   {
    "duration": 10,
    "start_time": "2023-03-25T15:01:41.642Z"
   },
   {
    "duration": 172,
    "start_time": "2023-03-25T15:01:41.654Z"
   },
   {
    "duration": 22,
    "start_time": "2023-03-25T15:01:41.828Z"
   },
   {
    "duration": 11,
    "start_time": "2023-03-25T15:01:41.853Z"
   },
   {
    "duration": 18,
    "start_time": "2023-03-25T15:01:41.866Z"
   },
   {
    "duration": 33,
    "start_time": "2023-03-25T15:01:41.885Z"
   },
   {
    "duration": 9,
    "start_time": "2023-03-25T15:01:41.919Z"
   },
   {
    "duration": 19,
    "start_time": "2023-03-25T15:01:41.930Z"
   },
   {
    "duration": 14,
    "start_time": "2023-03-25T15:01:41.951Z"
   },
   {
    "duration": 14,
    "start_time": "2023-03-25T15:01:41.966Z"
   },
   {
    "duration": 316,
    "start_time": "2023-03-25T15:01:41.982Z"
   },
   {
    "duration": 368,
    "start_time": "2023-03-25T15:01:42.300Z"
   },
   {
    "duration": 213,
    "start_time": "2023-03-25T15:01:42.670Z"
   },
   {
    "duration": 394,
    "start_time": "2023-03-25T15:01:42.886Z"
   },
   {
    "duration": 241,
    "start_time": "2023-03-25T15:01:43.281Z"
   },
   {
    "duration": 362,
    "start_time": "2023-03-25T15:01:43.524Z"
   },
   {
    "duration": 12,
    "start_time": "2023-03-25T15:01:43.888Z"
   },
   {
    "duration": 155,
    "start_time": "2023-03-25T15:01:43.902Z"
   },
   {
    "duration": 6,
    "start_time": "2023-03-25T15:01:44.059Z"
   },
   {
    "duration": 167,
    "start_time": "2023-03-25T15:01:44.067Z"
   },
   {
    "duration": 4,
    "start_time": "2023-03-25T15:01:44.236Z"
   },
   {
    "duration": 142,
    "start_time": "2023-03-25T15:01:44.243Z"
   },
   {
    "duration": 5,
    "start_time": "2023-03-25T15:01:44.386Z"
   },
   {
    "duration": 2012,
    "start_time": "2023-03-25T15:01:44.393Z"
   },
   {
    "duration": 0,
    "start_time": "2023-03-25T15:01:46.406Z"
   },
   {
    "duration": 0,
    "start_time": "2023-03-25T15:01:46.408Z"
   },
   {
    "duration": 0,
    "start_time": "2023-03-25T15:01:46.409Z"
   },
   {
    "duration": 0,
    "start_time": "2023-03-25T15:01:46.411Z"
   },
   {
    "duration": 0,
    "start_time": "2023-03-25T15:01:46.412Z"
   },
   {
    "duration": 14,
    "start_time": "2023-03-25T15:01:51.404Z"
   },
   {
    "duration": 15,
    "start_time": "2023-03-25T15:01:53.056Z"
   },
   {
    "duration": 1078,
    "start_time": "2023-03-25T15:01:57.104Z"
   },
   {
    "duration": 10,
    "start_time": "2023-03-25T15:02:00.636Z"
   },
   {
    "duration": 18,
    "start_time": "2023-03-25T15:02:02.367Z"
   },
   {
    "duration": 42,
    "start_time": "2023-04-03T18:01:12.963Z"
   },
   {
    "duration": 1312,
    "start_time": "2023-04-03T18:01:26.746Z"
   },
   {
    "duration": 113,
    "start_time": "2023-04-03T18:01:28.061Z"
   },
   {
    "duration": 13,
    "start_time": "2023-04-03T18:01:28.176Z"
   },
   {
    "duration": 6,
    "start_time": "2023-04-03T18:01:28.192Z"
   },
   {
    "duration": 33,
    "start_time": "2023-04-03T18:01:28.200Z"
   },
   {
    "duration": 13,
    "start_time": "2023-04-03T18:01:28.235Z"
   },
   {
    "duration": 11,
    "start_time": "2023-04-03T18:01:28.249Z"
   },
   {
    "duration": 282,
    "start_time": "2023-04-03T18:01:28.262Z"
   },
   {
    "duration": 21,
    "start_time": "2023-04-03T18:01:28.546Z"
   },
   {
    "duration": 12,
    "start_time": "2023-04-03T18:01:28.570Z"
   },
   {
    "duration": 25,
    "start_time": "2023-04-03T18:01:28.584Z"
   },
   {
    "duration": 19,
    "start_time": "2023-04-03T18:01:28.611Z"
   },
   {
    "duration": 9,
    "start_time": "2023-04-03T18:01:33.000Z"
   },
   {
    "duration": 8,
    "start_time": "2023-04-03T18:08:10.334Z"
   },
   {
    "duration": 7,
    "start_time": "2023-04-03T18:08:14.900Z"
   },
   {
    "duration": 68,
    "start_time": "2023-04-03T18:08:27.789Z"
   },
   {
    "duration": 12,
    "start_time": "2023-04-03T18:08:38.443Z"
   },
   {
    "duration": 48,
    "start_time": "2023-04-03T18:08:47.046Z"
   },
   {
    "duration": 12,
    "start_time": "2023-04-03T18:08:56.622Z"
   },
   {
    "duration": 7,
    "start_time": "2023-04-03T18:09:00.730Z"
   },
   {
    "duration": 9,
    "start_time": "2023-04-03T18:09:11.814Z"
   },
   {
    "duration": 8,
    "start_time": "2023-04-03T18:09:22.529Z"
   },
   {
    "duration": 8,
    "start_time": "2023-04-03T18:09:35.357Z"
   },
   {
    "duration": 12,
    "start_time": "2023-04-03T18:09:52.505Z"
   },
   {
    "duration": 7,
    "start_time": "2023-04-03T18:10:01.015Z"
   },
   {
    "duration": 8,
    "start_time": "2023-04-03T18:10:16.246Z"
   },
   {
    "duration": 12,
    "start_time": "2023-04-03T18:13:47.859Z"
   },
   {
    "duration": 12,
    "start_time": "2023-04-03T18:13:57.937Z"
   },
   {
    "duration": 12,
    "start_time": "2023-04-03T18:14:03.577Z"
   },
   {
    "duration": 6,
    "start_time": "2023-04-03T18:14:12.099Z"
   },
   {
    "duration": 6,
    "start_time": "2023-04-03T18:14:34.485Z"
   },
   {
    "duration": 9,
    "start_time": "2023-04-03T18:17:37.331Z"
   },
   {
    "duration": 6,
    "start_time": "2023-04-03T18:22:07.162Z"
   },
   {
    "duration": 5,
    "start_time": "2023-04-03T18:22:46.471Z"
   },
   {
    "duration": 43,
    "start_time": "2023-04-03T18:23:37.556Z"
   },
   {
    "duration": 53,
    "start_time": "2023-04-03T18:24:14.624Z"
   },
   {
    "duration": 5,
    "start_time": "2023-04-03T18:27:42.573Z"
   },
   {
    "duration": 8,
    "start_time": "2023-04-03T18:28:29.025Z"
   },
   {
    "duration": 8,
    "start_time": "2023-04-03T18:28:55.854Z"
   },
   {
    "duration": 6,
    "start_time": "2023-04-03T18:29:26.938Z"
   },
   {
    "duration": 6,
    "start_time": "2023-04-03T18:30:03.345Z"
   },
   {
    "duration": 7,
    "start_time": "2023-04-03T18:30:36.110Z"
   },
   {
    "duration": 7,
    "start_time": "2023-04-03T18:30:51.911Z"
   },
   {
    "duration": 12,
    "start_time": "2023-04-03T18:31:08.267Z"
   },
   {
    "duration": 12,
    "start_time": "2023-04-03T18:31:41.413Z"
   },
   {
    "duration": 13,
    "start_time": "2023-04-03T18:34:15.776Z"
   },
   {
    "duration": 15,
    "start_time": "2023-04-03T18:34:39.600Z"
   },
   {
    "duration": 11,
    "start_time": "2023-04-03T18:34:53.246Z"
   },
   {
    "duration": 7,
    "start_time": "2023-04-03T18:35:07.226Z"
   },
   {
    "duration": 7,
    "start_time": "2023-04-03T18:35:23.156Z"
   },
   {
    "duration": 8,
    "start_time": "2023-04-03T18:35:53.866Z"
   },
   {
    "duration": 7,
    "start_time": "2023-04-03T18:36:06.223Z"
   },
   {
    "duration": 7,
    "start_time": "2023-04-03T18:36:15.183Z"
   },
   {
    "duration": 9,
    "start_time": "2023-04-03T18:39:04.027Z"
   },
   {
    "duration": 6,
    "start_time": "2023-04-03T18:39:08.624Z"
   },
   {
    "duration": 7,
    "start_time": "2023-04-03T18:39:15.627Z"
   },
   {
    "duration": 7,
    "start_time": "2023-04-03T18:39:22.552Z"
   },
   {
    "duration": 9,
    "start_time": "2023-04-03T18:39:39.354Z"
   },
   {
    "duration": 7,
    "start_time": "2023-04-03T18:39:54.570Z"
   },
   {
    "duration": 9,
    "start_time": "2023-04-03T18:40:11.505Z"
   },
   {
    "duration": 7,
    "start_time": "2023-04-03T18:40:16.766Z"
   },
   {
    "duration": 7,
    "start_time": "2023-04-03T18:40:22.635Z"
   },
   {
    "duration": 7,
    "start_time": "2023-04-03T18:40:30.146Z"
   },
   {
    "duration": 8,
    "start_time": "2023-04-03T18:40:55.919Z"
   },
   {
    "duration": 7,
    "start_time": "2023-04-03T18:41:01.024Z"
   },
   {
    "duration": 7,
    "start_time": "2023-04-03T18:41:05.660Z"
   },
   {
    "duration": 7,
    "start_time": "2023-04-03T18:41:13.270Z"
   },
   {
    "duration": 7,
    "start_time": "2023-04-03T18:41:17.872Z"
   },
   {
    "duration": 8,
    "start_time": "2023-04-03T18:41:22.820Z"
   },
   {
    "duration": 6,
    "start_time": "2023-04-03T18:44:38.179Z"
   },
   {
    "duration": 8,
    "start_time": "2023-04-03T18:45:03.633Z"
   },
   {
    "duration": 6,
    "start_time": "2023-04-03T18:45:47.685Z"
   },
   {
    "duration": 9,
    "start_time": "2023-04-03T18:46:18.226Z"
   },
   {
    "duration": 8,
    "start_time": "2023-04-03T18:46:49.099Z"
   },
   {
    "duration": 7,
    "start_time": "2023-04-03T18:46:53.905Z"
   },
   {
    "duration": 7,
    "start_time": "2023-04-03T18:47:56.287Z"
   },
   {
    "duration": 7,
    "start_time": "2023-04-03T18:49:45.512Z"
   },
   {
    "duration": 9,
    "start_time": "2023-04-03T18:50:08.955Z"
   },
   {
    "duration": 12,
    "start_time": "2023-04-03T18:50:46.936Z"
   },
   {
    "duration": 11,
    "start_time": "2023-04-03T18:51:15.991Z"
   },
   {
    "duration": 71,
    "start_time": "2023-04-03T19:01:55.597Z"
   },
   {
    "duration": 101,
    "start_time": "2023-04-03T19:17:47.319Z"
   },
   {
    "duration": 98,
    "start_time": "2023-04-03T19:20:18.654Z"
   },
   {
    "duration": 213,
    "start_time": "2023-04-03T19:21:08.026Z"
   },
   {
    "duration": 134,
    "start_time": "2023-04-03T19:21:10.165Z"
   },
   {
    "duration": 4,
    "start_time": "2023-04-03T19:21:19.653Z"
   },
   {
    "duration": 54,
    "start_time": "2023-04-03T19:21:19.659Z"
   },
   {
    "duration": 9,
    "start_time": "2023-04-03T19:21:19.715Z"
   },
   {
    "duration": 6,
    "start_time": "2023-04-03T19:21:19.726Z"
   },
   {
    "duration": 17,
    "start_time": "2023-04-03T19:21:19.733Z"
   },
   {
    "duration": 13,
    "start_time": "2023-04-03T19:21:19.751Z"
   },
   {
    "duration": 26,
    "start_time": "2023-04-03T19:21:19.765Z"
   },
   {
    "duration": 84,
    "start_time": "2023-04-03T19:21:19.793Z"
   },
   {
    "duration": 20,
    "start_time": "2023-04-03T19:21:19.879Z"
   },
   {
    "duration": 11,
    "start_time": "2023-04-03T19:21:19.901Z"
   },
   {
    "duration": 12,
    "start_time": "2023-04-03T19:21:19.915Z"
   },
   {
    "duration": 18,
    "start_time": "2023-04-03T19:21:19.928Z"
   },
   {
    "duration": 8,
    "start_time": "2023-04-03T19:21:19.947Z"
   },
   {
    "duration": 39,
    "start_time": "2023-04-03T19:21:19.956Z"
   },
   {
    "duration": 7,
    "start_time": "2023-04-03T19:21:19.997Z"
   },
   {
    "duration": 8,
    "start_time": "2023-04-03T19:21:20.006Z"
   },
   {
    "duration": 281,
    "start_time": "2023-04-03T19:21:20.016Z"
   },
   {
    "duration": 259,
    "start_time": "2023-04-03T19:21:20.299Z"
   },
   {
    "duration": 187,
    "start_time": "2023-04-03T19:21:20.560Z"
   },
   {
    "duration": 381,
    "start_time": "2023-04-03T19:21:20.749Z"
   },
   {
    "duration": 208,
    "start_time": "2023-04-03T19:21:21.132Z"
   },
   {
    "duration": 308,
    "start_time": "2023-04-03T19:21:21.342Z"
   },
   {
    "duration": 11,
    "start_time": "2023-04-03T19:21:21.652Z"
   },
   {
    "duration": 121,
    "start_time": "2023-04-03T19:21:21.665Z"
   },
   {
    "duration": 4,
    "start_time": "2023-04-03T19:21:21.791Z"
   },
   {
    "duration": 136,
    "start_time": "2023-04-03T19:21:21.797Z"
   },
   {
    "duration": 5,
    "start_time": "2023-04-03T19:21:21.935Z"
   },
   {
    "duration": 194,
    "start_time": "2023-04-03T19:21:21.941Z"
   },
   {
    "duration": 5,
    "start_time": "2023-04-03T19:21:22.137Z"
   },
   {
    "duration": 201,
    "start_time": "2023-04-03T19:21:22.144Z"
   },
   {
    "duration": 147,
    "start_time": "2023-04-03T19:21:22.347Z"
   },
   {
    "duration": 13,
    "start_time": "2023-04-03T19:21:22.495Z"
   },
   {
    "duration": 13,
    "start_time": "2023-04-03T19:21:22.509Z"
   },
   {
    "duration": 7,
    "start_time": "2023-04-03T19:21:22.523Z"
   },
   {
    "duration": 27,
    "start_time": "2023-04-03T19:21:22.531Z"
   },
   {
    "duration": 16,
    "start_time": "2023-04-03T19:21:22.592Z"
   },
   {
    "duration": 26,
    "start_time": "2023-04-03T19:25:14.291Z"
   },
   {
    "duration": 1007,
    "start_time": "2023-04-03T22:13:58.465Z"
   },
   {
    "duration": 64,
    "start_time": "2023-04-03T22:13:59.474Z"
   },
   {
    "duration": 11,
    "start_time": "2023-04-03T22:13:59.540Z"
   },
   {
    "duration": 11,
    "start_time": "2023-04-03T22:13:59.554Z"
   },
   {
    "duration": 19,
    "start_time": "2023-04-03T22:13:59.566Z"
   },
   {
    "duration": 13,
    "start_time": "2023-04-03T22:13:59.586Z"
   },
   {
    "duration": 12,
    "start_time": "2023-04-03T22:13:59.600Z"
   },
   {
    "duration": 90,
    "start_time": "2023-04-03T22:13:59.614Z"
   },
   {
    "duration": 16,
    "start_time": "2023-04-03T22:13:59.706Z"
   },
   {
    "duration": 10,
    "start_time": "2023-04-03T22:13:59.725Z"
   },
   {
    "duration": 26,
    "start_time": "2023-04-03T22:13:59.736Z"
   },
   {
    "duration": 16,
    "start_time": "2023-04-03T22:13:59.764Z"
   },
   {
    "duration": 8,
    "start_time": "2023-04-03T22:13:59.781Z"
   },
   {
    "duration": 10,
    "start_time": "2023-04-03T22:13:59.790Z"
   },
   {
    "duration": 10,
    "start_time": "2023-04-03T22:13:59.801Z"
   },
   {
    "duration": 5,
    "start_time": "2023-04-03T22:13:59.813Z"
   },
   {
    "duration": 7,
    "start_time": "2023-04-03T22:13:59.835Z"
   },
   {
    "duration": 275,
    "start_time": "2023-04-03T22:13:59.843Z"
   },
   {
    "duration": 287,
    "start_time": "2023-04-03T22:14:00.120Z"
   },
   {
    "duration": 227,
    "start_time": "2023-04-03T22:14:00.409Z"
   },
   {
    "duration": 300,
    "start_time": "2023-04-03T22:14:00.638Z"
   },
   {
    "duration": 228,
    "start_time": "2023-04-03T22:14:00.940Z"
   },
   {
    "duration": 304,
    "start_time": "2023-04-03T22:14:01.171Z"
   },
   {
    "duration": 11,
    "start_time": "2023-04-03T22:14:01.477Z"
   },
   {
    "duration": 129,
    "start_time": "2023-04-03T22:14:01.490Z"
   },
   {
    "duration": 13,
    "start_time": "2023-04-03T22:14:01.621Z"
   },
   {
    "duration": 139,
    "start_time": "2023-04-03T22:14:01.637Z"
   },
   {
    "duration": 6,
    "start_time": "2023-04-03T22:14:01.780Z"
   },
   {
    "duration": 152,
    "start_time": "2023-04-03T22:14:01.787Z"
   },
   {
    "duration": 5,
    "start_time": "2023-04-03T22:14:01.941Z"
   },
   {
    "duration": 294,
    "start_time": "2023-04-03T22:14:01.948Z"
   },
   {
    "duration": 152,
    "start_time": "2023-04-03T22:14:02.244Z"
   },
   {
    "duration": 13,
    "start_time": "2023-04-03T22:14:02.397Z"
   },
   {
    "duration": 49,
    "start_time": "2023-04-03T22:14:02.411Z"
   },
   {
    "duration": 7,
    "start_time": "2023-04-03T22:14:02.461Z"
   },
   {
    "duration": 42,
    "start_time": "2023-04-03T22:14:02.470Z"
   },
   {
    "duration": 17,
    "start_time": "2023-04-03T22:14:02.514Z"
   },
   {
    "duration": 158,
    "start_time": "2023-04-03T22:16:00.376Z"
   },
   {
    "duration": 8,
    "start_time": "2023-04-03T22:16:13.246Z"
   },
   {
    "duration": 6,
    "start_time": "2023-04-03T22:16:26.537Z"
   },
   {
    "duration": 1168,
    "start_time": "2023-04-03T22:19:41.405Z"
   },
   {
    "duration": 63,
    "start_time": "2023-04-03T22:19:42.575Z"
   },
   {
    "duration": 11,
    "start_time": "2023-04-03T22:19:42.640Z"
   },
   {
    "duration": 17,
    "start_time": "2023-04-03T22:19:42.653Z"
   },
   {
    "duration": 14,
    "start_time": "2023-04-03T22:19:42.672Z"
   },
   {
    "duration": 11,
    "start_time": "2023-04-03T22:19:42.688Z"
   },
   {
    "duration": 12,
    "start_time": "2023-04-03T22:19:42.700Z"
   },
   {
    "duration": 112,
    "start_time": "2023-04-03T22:19:42.714Z"
   },
   {
    "duration": 19,
    "start_time": "2023-04-03T22:19:42.827Z"
   },
   {
    "duration": 15,
    "start_time": "2023-04-03T22:19:42.848Z"
   },
   {
    "duration": 18,
    "start_time": "2023-04-03T22:19:42.864Z"
   },
   {
    "duration": 16,
    "start_time": "2023-04-03T22:19:42.884Z"
   },
   {
    "duration": 24,
    "start_time": "2023-04-03T22:19:42.901Z"
   },
   {
    "duration": 11,
    "start_time": "2023-04-03T22:19:42.927Z"
   },
   {
    "duration": 18,
    "start_time": "2023-04-03T22:19:42.940Z"
   },
   {
    "duration": 17,
    "start_time": "2023-04-03T22:19:42.959Z"
   },
   {
    "duration": 295,
    "start_time": "2023-04-03T22:19:42.977Z"
   },
   {
    "duration": 304,
    "start_time": "2023-04-03T22:19:43.274Z"
   },
   {
    "duration": 214,
    "start_time": "2023-04-03T22:19:43.579Z"
   },
   {
    "duration": 339,
    "start_time": "2023-04-03T22:19:43.795Z"
   },
   {
    "duration": 226,
    "start_time": "2023-04-03T22:19:44.136Z"
   },
   {
    "duration": 361,
    "start_time": "2023-04-03T22:19:44.364Z"
   },
   {
    "duration": 17,
    "start_time": "2023-04-03T22:19:44.726Z"
   },
   {
    "duration": 143,
    "start_time": "2023-04-03T22:19:44.745Z"
   },
   {
    "duration": 5,
    "start_time": "2023-04-03T22:19:44.890Z"
   },
   {
    "duration": 158,
    "start_time": "2023-04-03T22:19:44.896Z"
   },
   {
    "duration": 6,
    "start_time": "2023-04-03T22:19:45.056Z"
   },
   {
    "duration": 147,
    "start_time": "2023-04-03T22:19:45.065Z"
   },
   {
    "duration": 5,
    "start_time": "2023-04-03T22:19:45.214Z"
   },
   {
    "duration": 328,
    "start_time": "2023-04-03T22:19:45.221Z"
   },
   {
    "duration": 159,
    "start_time": "2023-04-03T22:19:45.551Z"
   },
   {
    "duration": 27,
    "start_time": "2023-04-03T22:19:45.712Z"
   },
   {
    "duration": 16,
    "start_time": "2023-04-03T22:19:45.740Z"
   },
   {
    "duration": 8,
    "start_time": "2023-04-03T22:19:45.758Z"
   },
   {
    "duration": 29,
    "start_time": "2023-04-03T22:19:45.768Z"
   },
   {
    "duration": 52,
    "start_time": "2023-04-03T22:19:45.799Z"
   },
   {
    "duration": 48,
    "start_time": "2023-04-04T06:35:28.345Z"
   },
   {
    "duration": 1249,
    "start_time": "2023-04-04T06:35:38.624Z"
   },
   {
    "duration": 98,
    "start_time": "2023-04-04T06:35:39.875Z"
   },
   {
    "duration": 11,
    "start_time": "2023-04-04T06:35:39.974Z"
   },
   {
    "duration": 9,
    "start_time": "2023-04-04T06:35:39.986Z"
   },
   {
    "duration": 19,
    "start_time": "2023-04-04T06:35:39.996Z"
   },
   {
    "duration": 9,
    "start_time": "2023-04-04T06:35:40.016Z"
   },
   {
    "duration": 12,
    "start_time": "2023-04-04T06:35:40.027Z"
   },
   {
    "duration": 165,
    "start_time": "2023-04-04T06:35:40.040Z"
   },
   {
    "duration": 18,
    "start_time": "2023-04-04T06:35:40.206Z"
   },
   {
    "duration": 11,
    "start_time": "2023-04-04T06:35:40.225Z"
   },
   {
    "duration": 20,
    "start_time": "2023-04-04T06:35:40.237Z"
   },
   {
    "duration": 24,
    "start_time": "2023-04-04T06:35:40.258Z"
   },
   {
    "duration": 6,
    "start_time": "2023-04-04T06:35:40.283Z"
   },
   {
    "duration": 9,
    "start_time": "2023-04-04T06:35:40.291Z"
   },
   {
    "duration": 5,
    "start_time": "2023-04-04T06:35:40.301Z"
   },
   {
    "duration": 14,
    "start_time": "2023-04-04T06:35:40.307Z"
   },
   {
    "duration": 277,
    "start_time": "2023-04-04T06:35:40.322Z"
   },
   {
    "duration": 270,
    "start_time": "2023-04-04T06:35:40.601Z"
   },
   {
    "duration": 196,
    "start_time": "2023-04-04T06:35:40.872Z"
   },
   {
    "duration": 311,
    "start_time": "2023-04-04T06:35:41.070Z"
   },
   {
    "duration": 210,
    "start_time": "2023-04-04T06:35:41.383Z"
   },
   {
    "duration": 312,
    "start_time": "2023-04-04T06:35:41.595Z"
   },
   {
    "duration": 12,
    "start_time": "2023-04-04T06:35:41.908Z"
   },
   {
    "duration": 126,
    "start_time": "2023-04-04T06:35:41.922Z"
   },
   {
    "duration": 5,
    "start_time": "2023-04-04T06:35:42.050Z"
   },
   {
    "duration": 138,
    "start_time": "2023-04-04T06:35:42.056Z"
   },
   {
    "duration": 5,
    "start_time": "2023-04-04T06:35:42.196Z"
   },
   {
    "duration": 130,
    "start_time": "2023-04-04T06:35:42.202Z"
   },
   {
    "duration": 4,
    "start_time": "2023-04-04T06:35:42.339Z"
   },
   {
    "duration": 250,
    "start_time": "2023-04-04T06:35:42.344Z"
   },
   {
    "duration": 161,
    "start_time": "2023-04-04T06:35:42.596Z"
   },
   {
    "duration": 13,
    "start_time": "2023-04-04T06:35:42.759Z"
   },
   {
    "duration": 13,
    "start_time": "2023-04-04T06:35:42.774Z"
   },
   {
    "duration": 11,
    "start_time": "2023-04-04T06:35:42.788Z"
   },
   {
    "duration": 53,
    "start_time": "2023-04-04T06:35:42.801Z"
   },
   {
    "duration": 17,
    "start_time": "2023-04-04T06:35:42.855Z"
   },
   {
    "duration": 6,
    "start_time": "2023-04-04T06:36:31.380Z"
   },
   {
    "duration": 6,
    "start_time": "2023-04-04T06:36:45.928Z"
   },
   {
    "duration": 1033,
    "start_time": "2023-04-04T06:39:57.439Z"
   },
   {
    "duration": 62,
    "start_time": "2023-04-04T06:39:58.474Z"
   },
   {
    "duration": 11,
    "start_time": "2023-04-04T06:39:58.538Z"
   },
   {
    "duration": 5,
    "start_time": "2023-04-04T06:39:58.551Z"
   },
   {
    "duration": 13,
    "start_time": "2023-04-04T06:39:58.557Z"
   },
   {
    "duration": 12,
    "start_time": "2023-04-04T06:39:58.571Z"
   },
   {
    "duration": 10,
    "start_time": "2023-04-04T06:39:58.584Z"
   },
   {
    "duration": 79,
    "start_time": "2023-04-04T06:39:58.596Z"
   },
   {
    "duration": 20,
    "start_time": "2023-04-04T06:39:58.676Z"
   },
   {
    "duration": 11,
    "start_time": "2023-04-04T06:39:58.698Z"
   },
   {
    "duration": 12,
    "start_time": "2023-04-04T06:39:58.711Z"
   },
   {
    "duration": 22,
    "start_time": "2023-04-04T06:39:58.725Z"
   },
   {
    "duration": 10,
    "start_time": "2023-04-04T06:39:58.748Z"
   },
   {
    "duration": 23,
    "start_time": "2023-04-04T06:39:58.760Z"
   },
   {
    "duration": 6,
    "start_time": "2023-04-04T06:39:58.784Z"
   },
   {
    "duration": 7,
    "start_time": "2023-04-04T06:39:58.791Z"
   },
   {
    "duration": 277,
    "start_time": "2023-04-04T06:39:58.800Z"
   },
   {
    "duration": 264,
    "start_time": "2023-04-04T06:39:59.079Z"
   },
   {
    "duration": 190,
    "start_time": "2023-04-04T06:39:59.344Z"
   },
   {
    "duration": 321,
    "start_time": "2023-04-04T06:39:59.535Z"
   },
   {
    "duration": 206,
    "start_time": "2023-04-04T06:39:59.857Z"
   },
   {
    "duration": 312,
    "start_time": "2023-04-04T06:40:00.064Z"
   },
   {
    "duration": 11,
    "start_time": "2023-04-04T06:40:00.378Z"
   },
   {
    "duration": 136,
    "start_time": "2023-04-04T06:40:00.391Z"
   },
   {
    "duration": 4,
    "start_time": "2023-04-04T06:40:00.529Z"
   },
   {
    "duration": 145,
    "start_time": "2023-04-04T06:40:00.534Z"
   },
   {
    "duration": 5,
    "start_time": "2023-04-04T06:40:00.681Z"
   },
   {
    "duration": 133,
    "start_time": "2023-04-04T06:40:00.689Z"
   },
   {
    "duration": 4,
    "start_time": "2023-04-04T06:40:00.824Z"
   },
   {
    "duration": 266,
    "start_time": "2023-04-04T06:40:00.829Z"
   },
   {
    "duration": 158,
    "start_time": "2023-04-04T06:40:01.096Z"
   },
   {
    "duration": 12,
    "start_time": "2023-04-04T06:40:01.256Z"
   },
   {
    "duration": 29,
    "start_time": "2023-04-04T06:40:01.269Z"
   },
   {
    "duration": 22,
    "start_time": "2023-04-04T06:40:01.299Z"
   },
   {
    "duration": 35,
    "start_time": "2023-04-04T06:40:01.322Z"
   },
   {
    "duration": 25,
    "start_time": "2023-04-04T06:40:01.358Z"
   },
   {
    "duration": 6,
    "start_time": "2023-04-04T06:41:21.534Z"
   }
  ],
  "kernelspec": {
   "display_name": "Python 3 (ipykernel)",
   "language": "python",
   "name": "python3"
  },
  "language_info": {
   "codemirror_mode": {
    "name": "ipython",
    "version": 3
   },
   "file_extension": ".py",
   "mimetype": "text/x-python",
   "name": "python",
   "nbconvert_exporter": "python",
   "pygments_lexer": "ipython3",
   "version": "3.10.9"
  },
  "toc": {
   "base_numbering": 1,
   "nav_menu": {
    "height": "347px",
    "width": "189px"
   },
   "number_sections": true,
   "sideBar": true,
   "skip_h1_title": true,
   "title_cell": "Table of Contents",
   "title_sidebar": "Contents",
   "toc_cell": false,
   "toc_position": {},
   "toc_section_display": true,
   "toc_window_display": true
  }
 },
 "nbformat": 4,
 "nbformat_minor": 2
}
